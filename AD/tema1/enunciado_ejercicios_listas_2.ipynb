{
 "cells": [
  {
   "cell_type": "markdown",
   "id": "0b56e0cb",
   "metadata": {},
   "source": [
    "# Ejercicio 1\n",
    "\n",
    "Crea el siguiente programa en celda de código siguiendo paso a paso las instrucciones:\n",
    "\n",
    "1. Ingresa en una lista una serie de palabras introducidas por teclado hasta que el usuario ingrese la palabra \"fin\". La palabra \"fin\" no se debe meter en la lista.\n",
    "2. Posteriormente, pide una palabra específica al usuario, búscala en la lista y muestra su posición en la lista. Si la palabra existe, elimínala y muestra la lista de palabras para comprobar; si no, indica que no se encontró."
   ]
  },
  {
   "cell_type": "code",
   "execution_count": null,
   "id": "11b12f05",
   "metadata": {},
   "outputs": [],
   "source": [
    "lista = []"
   ]
  },
  {
   "cell_type": "markdown",
   "id": "5ffae66e",
   "metadata": {},
   "source": [
    "# Ejercicio 2\n",
    "\n",
    "+ Escribe un programa que permita al usuario ingresar una lista de números. \n",
    "+ Luego, ordena la lista de menor a mayor y muéstrala.\n",
    "+ Posteriormente, muestra cuántas veces aparece cada número en la lista."
   ]
  },
  {
   "cell_type": "code",
   "execution_count": null,
   "id": "71266690",
   "metadata": {},
   "outputs": [],
   "source": []
  },
  {
   "cell_type": "markdown",
   "id": "b02f0865",
   "metadata": {},
   "source": [
    "# Ejercicio 3: Numeros únicos de una Lista\n",
    "\n",
    "+ Crea un programa que permita al usuario ingresar una lista de números hasta que se introduzca el 0. \n",
    "+ Luego, crea una lista con los números sin duplicar de la lista original. Es decir, si la lista tiene [2, 1, 2, 3, 2], el resultado es [2, 1, 3]"
   ]
  },
  {
   "cell_type": "code",
   "execution_count": null,
   "id": "d20058e3",
   "metadata": {},
   "outputs": [],
   "source": []
  }
 ],
 "metadata": {
  "kernelspec": {
   "display_name": "Python 3 (ipykernel)",
   "language": "python",
   "name": "python3"
  },
  "language_info": {
   "codemirror_mode": {
    "name": "ipython",
    "version": 3
   },
   "file_extension": ".py",
   "mimetype": "text/x-python",
   "name": "python",
   "nbconvert_exporter": "python",
   "pygments_lexer": "ipython3",
   "version": "3.11.5"
  }
 },
 "nbformat": 4,
 "nbformat_minor": 5
}
