{
 "cells": [
  {
   "cell_type": "markdown",
   "id": "96a48215",
   "metadata": {},
   "source": [
    "# Comparación Estructuras de control con NumPy\n",
    "\n",
    "Esta tanda de ejercicios trata de comparar la potencia de numpy para hacer muchas cosas en pocas líneas de código. \n",
    "\n",
    "El **objetivo** es hacer 2 versiones de cada ejercicio:\n",
    "\n",
    "+ Primero usando estructuras de control, es decir, hacer lo que se pide usando un bucle para recorrer el array, sin usar funciones o métodos de numpy (o lo menos posible).\n",
    "+ Posteriormente, hacer otra versión usando toda la potencia de numpy.\n",
    "\n",
    "\n",
    "El primer ejercicio se da hecho como ejemplo.\n",
    "\n",
    "\n",
    "## Para realizar estos ejercicios hay que ver antes el tema 1 hasta el final."
   ]
  },
  {
   "cell_type": "markdown",
   "id": "5d3ca191",
   "metadata": {},
   "source": [
    "# Datos\n",
    "\n",
    "Partimos de 4 ndarray:\n",
    "\n",
    "+ Notas de matemáticas (tipo entero)\n",
    "+ Notas de físicas (tipo entero)\n",
    "+ Nombres de alumnos.\n",
    "+ Array adicional de números reales."
   ]
  },
  {
   "cell_type": "code",
   "execution_count": 171,
   "id": "67582f23",
   "metadata": {},
   "outputs": [
    {
     "name": "stdout",
     "output_type": "stream",
     "text": [
      "[1 8 0 9 0 7 0 2 0 3]\n",
      "[ 8  0  4  7 10  1 10  4 10  2]\n",
      "[ 4.38796704e-01  3.29839038e-01 -7.13216629e-01  5.60158779e-01\n",
      "  6.24533223e-01  1.41479531e+00 -2.10867488e-01  7.17208377e-01\n",
      " -3.22754726e-04  2.60950645e+00]\n"
     ]
    }
   ],
   "source": [
    "import numpy as np\n",
    "\n",
    "notas_mates = np.random.randint(0, 11, 10)\n",
    "notas_fisica = np.random.randint(0, 11, 10)\n",
    "alumnos = np.array([\"Juan\", \"Pedro\", \"Antonio\", \"Maria\", \"Pablo\", \"Carlos\", \"Lucia\", \"Marta\", \"Noelia\", \"Samuel\"])\n",
    "array_float = np.random.standard_normal(10)\n",
    "\n",
    "print(notas_mates)\n",
    "print(notas_fisica)\n",
    "print(array_float)"
   ]
  },
  {
   "cell_type": "markdown",
   "id": "9974c1f7",
   "metadata": {},
   "source": [
    "# 1. Obtener la suma de todas las notas de matemáticas \n",
    "\n",
    "Este se da hecho como ejemplo."
   ]
  },
  {
   "cell_type": "code",
   "execution_count": 172,
   "id": "f6591ba8",
   "metadata": {},
   "outputs": [
    {
     "name": "stdout",
     "output_type": "stream",
     "text": [
      "30\n"
     ]
    }
   ],
   "source": [
    "# Versión con estructuras de control\n",
    "suma = 0\n",
    "for elem in notas_mates:\n",
    "    suma += elem\n",
    "print(suma)"
   ]
  },
  {
   "cell_type": "code",
   "execution_count": 173,
   "id": "6a838075",
   "metadata": {},
   "outputs": [
    {
     "name": "stdout",
     "output_type": "stream",
     "text": [
      "30\n"
     ]
    }
   ],
   "source": [
    "# Versión numpy\n",
    "print(notas_mates.sum())"
   ]
  },
  {
   "cell_type": "markdown",
   "id": "7f620c5d",
   "metadata": {},
   "source": [
    "# Obtener la nota media de matemáticas"
   ]
  },
  {
   "cell_type": "code",
   "execution_count": 174,
   "id": "79721602",
   "metadata": {},
   "outputs": [
    {
     "name": "stdout",
     "output_type": "stream",
     "text": [
      "3.0\n"
     ]
    }
   ],
   "source": [
    "# Versión con estructuras de control\n",
    "media = np.sum(notas_mates) / len(notas_mates)\n",
    "print(media)"
   ]
  },
  {
   "cell_type": "code",
   "execution_count": 175,
   "id": "efe6ca4a",
   "metadata": {},
   "outputs": [
    {
     "name": "stdout",
     "output_type": "stream",
     "text": [
      "3.0\n"
     ]
    }
   ],
   "source": [
    "# Versión numpy\n",
    "print(notas_mates.mean())"
   ]
  },
  {
   "cell_type": "markdown",
   "id": "84fc6c72",
   "metadata": {},
   "source": [
    "# Obtener un array con los nombres de los alumnos que han aprobado matemáticas"
   ]
  },
  {
   "cell_type": "code",
   "execution_count": 176,
   "id": "5d7dcfa6",
   "metadata": {},
   "outputs": [
    {
     "name": "stdout",
     "output_type": "stream",
     "text": [
      "Pedro Maria Carlos "
     ]
    }
   ],
   "source": [
    "# Versión con estructuras de control\n",
    "for i in range(len(notas_mates)):\n",
    "    if notas_mates[i] >= 5:\n",
    "        print(alumnos[i], end=\" \")"
   ]
  },
  {
   "cell_type": "code",
   "execution_count": 177,
   "id": "4227942f",
   "metadata": {},
   "outputs": [
    {
     "name": "stdout",
     "output_type": "stream",
     "text": [
      "['Pedro' 'Maria' 'Carlos']\n"
     ]
    }
   ],
   "source": [
    "# Versión numpy\n",
    "print(alumnos[notas_mates >= 5])"
   ]
  },
  {
   "cell_type": "markdown",
   "id": "229a5a6e",
   "metadata": {},
   "source": [
    "# Obtener un array con los nombres de aquellos alumnos con nota mayor a la nota media de mates"
   ]
  },
  {
   "cell_type": "code",
   "execution_count": 178,
   "id": "36693fbd",
   "metadata": {},
   "outputs": [
    {
     "name": "stdout",
     "output_type": "stream",
     "text": [
      "3.0\n",
      "El alumno Pedro tiene una nota de 8\n",
      "El alumno Maria tiene una nota de 9\n",
      "El alumno Carlos tiene una nota de 7\n",
      "El alumno Samuel tiene una nota de 3\n"
     ]
    }
   ],
   "source": [
    "# Versión con estructuras de control\n",
    "media = np.sum(notas_mates) / len(notas_mates)\n",
    "print(media)\n",
    "for i in range(len(notas_mates)):\n",
    "    if notas_mates[i] >= media:\n",
    "        print(f\"El alumno {alumnos[i]} tiene una nota de {notas_mates[i]}\")"
   ]
  },
  {
   "cell_type": "code",
   "execution_count": 179,
   "id": "8fd95645",
   "metadata": {},
   "outputs": [
    {
     "name": "stdout",
     "output_type": "stream",
     "text": [
      "['Pedro' 'Maria' 'Carlos' 'Samuel']\n"
     ]
    }
   ],
   "source": [
    "# Versión numpy\n",
    "print(alumnos[notas_mates >= notas_mates.mean()])"
   ]
  },
  {
   "cell_type": "markdown",
   "id": "572bea13",
   "metadata": {},
   "source": [
    "## Sumar 1 punto a aquellos alumnos que han suspendido mates (nota < 5)"
   ]
  },
  {
   "cell_type": "code",
   "execution_count": 180,
   "id": "c36f19cc",
   "metadata": {},
   "outputs": [
    {
     "name": "stdout",
     "output_type": "stream",
     "text": [
      "El alumno Juan se le ha sumado 1 punto a su nota: 2\n",
      "El alumno Antonio se le ha sumado 1 punto a su nota: 1\n",
      "El alumno Pablo se le ha sumado 1 punto a su nota: 1\n",
      "El alumno Lucia se le ha sumado 1 punto a su nota: 1\n",
      "El alumno Marta se le ha sumado 1 punto a su nota: 3\n",
      "El alumno Noelia se le ha sumado 1 punto a su nota: 1\n",
      "El alumno Samuel se le ha sumado 1 punto a su nota: 4\n"
     ]
    }
   ],
   "source": [
    "# Versión con estructuras de control\n",
    "for i in range(len(notas_mates)):\n",
    "    if notas_mates[i] < 5:\n",
    "        notas_mates[i] += 1\n",
    "        print(f\"El alumno {alumnos[i]} se le ha sumado 1 punto a su nota: {notas_mates[i]}\")"
   ]
  },
  {
   "cell_type": "code",
   "execution_count": 181,
   "id": "c5d1f5fb",
   "metadata": {},
   "outputs": [
    {
     "name": "stdout",
     "output_type": "stream",
     "text": [
      "El alumno ['Juan' 'Antonio' 'Pablo' 'Lucia' 'Marta' 'Noelia' 'Samuel'] se le ha sumado 1 punto en su nota: [3 2 2 2 4 2 5]\n"
     ]
    }
   ],
   "source": [
    "# Versión numpy\n",
    "print(f\"El alumno {alumnos[notas_mates < 5]} se le ha sumado 1 punto en su nota: {notas_mates[notas_mates < 5] + 1}\")"
   ]
  },
  {
   "cell_type": "markdown",
   "id": "36828f3c",
   "metadata": {},
   "source": [
    "## Sumar 2 punto a aquellos alumnos que han suspendido mates (nota < 5)\n",
    "## Sumar 1 punto a los que han aprobado"
   ]
  },
  {
   "cell_type": "code",
   "execution_count": 182,
   "id": "a035d4fc",
   "metadata": {},
   "outputs": [
    {
     "name": "stdout",
     "output_type": "stream",
     "text": [
      "El alumno Juan se le ha sumado 2 punto a su nota: 4\n",
      "El alumno Pedro se le ha sumado 1 punto a su nota: 9\n",
      "El alumno Antonio se le ha sumado 2 punto a su nota: 3\n",
      "El alumno Maria se le ha sumado 1 punto a su nota: 10\n",
      "El alumno Pablo se le ha sumado 2 punto a su nota: 3\n",
      "El alumno Carlos se le ha sumado 1 punto a su nota: 8\n",
      "El alumno Lucia se le ha sumado 2 punto a su nota: 3\n",
      "El alumno Marta se le ha sumado 2 punto a su nota: 5\n",
      "El alumno Noelia se le ha sumado 2 punto a su nota: 3\n",
      "El alumno Samuel se le ha sumado 2 punto a su nota: 6\n"
     ]
    }
   ],
   "source": [
    "# Versión con estructuras de control\n",
    "for i in range(len(notas_mates)):\n",
    "    if notas_mates[i] < 5:\n",
    "        notas_mates[i] += 2\n",
    "        print(f\"El alumno {alumnos[i]} se le ha sumado 2 punto a su nota: {notas_mates[i]}\")\n",
    "    else:\n",
    "        notas_mates[i] += 1\n",
    "        print(f\"El alumno {alumnos[i]} se le ha sumado 1 punto a su nota: {notas_mates[i]}\")"
   ]
  },
  {
   "cell_type": "code",
   "execution_count": 183,
   "id": "f8fe5c3d",
   "metadata": {},
   "outputs": [
    {
     "name": "stdout",
     "output_type": "stream",
     "text": [
      "[ 4  9  3 10  3  8  3  5  3  6]\n",
      "[ 6 10  5 11  5  9  5  6  5  7]\n"
     ]
    }
   ],
   "source": [
    "# Versión numpy\n",
    "print(notas_mates)\n",
    "condicion = notas_mates < 5\n",
    "resultado = np.where(condicion, notas_mates + 2, notas_mates + 1)\n",
    "print(resultado)"
   ]
  },
  {
   "cell_type": "markdown",
   "id": "f555f05d",
   "metadata": {},
   "source": [
    "# Generar un ndarray a partir de array_float\n",
    "# Si el número es negativo, convertirlo a positivo"
   ]
  },
  {
   "cell_type": "code",
   "execution_count": null,
   "id": "f5b300bf",
   "metadata": {},
   "outputs": [
    {
     "ename": "SyntaxError",
     "evalue": "incomplete input (170186082.py, line 5)",
     "output_type": "error",
     "traceback": [
      "  \u001b[36mCell\u001b[39m\u001b[36m \u001b[39m\u001b[32mIn[184]\u001b[39m\u001b[32m, line 5\u001b[39m\n\u001b[31m    \u001b[39m\n    ^\n\u001b[31mSyntaxError\u001b[39m\u001b[31m:\u001b[39m incomplete input\n"
     ]
    }
   ],
   "source": [
    "# Versión con estructuras de control\n"
   ]
  },
  {
   "cell_type": "code",
   "execution_count": null,
   "id": "42cd49a9",
   "metadata": {},
   "outputs": [],
   "source": [
    "# Versión numpy"
   ]
  },
  {
   "cell_type": "markdown",
   "id": "8813b3fc",
   "metadata": {},
   "source": [
    "# Poner un 10  en mates al alumno Pedro"
   ]
  },
  {
   "cell_type": "code",
   "execution_count": null,
   "id": "cc0a8a15",
   "metadata": {},
   "outputs": [],
   "source": [
    "# Versión con estructuras de control"
   ]
  },
  {
   "cell_type": "code",
   "execution_count": null,
   "id": "4935c000",
   "metadata": {},
   "outputs": [],
   "source": [
    "# Versión numpy"
   ]
  },
  {
   "cell_type": "markdown",
   "id": "da35e408",
   "metadata": {},
   "source": [
    "# Elevar al cuadrado todas las notas de matemáticas"
   ]
  },
  {
   "cell_type": "code",
   "execution_count": null,
   "id": "1d452d77",
   "metadata": {},
   "outputs": [],
   "source": [
    "# Versión con estructuras de control"
   ]
  },
  {
   "cell_type": "code",
   "execution_count": null,
   "id": "0ac9457c",
   "metadata": {},
   "outputs": [],
   "source": [
    "# Versión numpy"
   ]
  },
  {
   "cell_type": "markdown",
   "id": "2edbd49c",
   "metadata": {},
   "source": [
    "# Elevar al cuadrado las notas menores a 5 de matemáticas"
   ]
  },
  {
   "cell_type": "code",
   "execution_count": null,
   "id": "582b7551",
   "metadata": {},
   "outputs": [],
   "source": [
    "# Versión con estructuras de control"
   ]
  },
  {
   "cell_type": "code",
   "execution_count": null,
   "id": "4bfa21dc",
   "metadata": {},
   "outputs": [],
   "source": [
    "# Versión numpy"
   ]
  },
  {
   "cell_type": "markdown",
   "id": "2d671f06",
   "metadata": {},
   "source": [
    "# Generar un ndarray que guarde el signo del array array_float. \n",
    "\n",
    "El signo se marca con lo siguiente:\n",
    "+ -1 Si el signo es negativo\n",
    "+ 0 si el número es 0\n",
    "+ 1 si el signo es positivo"
   ]
  },
  {
   "cell_type": "code",
   "execution_count": null,
   "id": "c77745d3",
   "metadata": {},
   "outputs": [],
   "source": [
    "# Versión con estructuras de control"
   ]
  },
  {
   "cell_type": "code",
   "execution_count": null,
   "id": "d3a3e6fb",
   "metadata": {},
   "outputs": [],
   "source": [
    "# Versión numpy"
   ]
  },
  {
   "cell_type": "markdown",
   "id": "b6422173",
   "metadata": {},
   "source": [
    "# Generar un ndarray que guarde la nota mínima de cada alumno entre mates y física"
   ]
  },
  {
   "cell_type": "code",
   "execution_count": null,
   "id": "c3de7975",
   "metadata": {},
   "outputs": [],
   "source": [
    "# Versión con estructuras de control"
   ]
  },
  {
   "cell_type": "code",
   "execution_count": null,
   "id": "7984a2ef",
   "metadata": {},
   "outputs": [],
   "source": [
    "# Versión numpy"
   ]
  },
  {
   "cell_type": "markdown",
   "id": "f230f770",
   "metadata": {},
   "source": [
    "# Comprobar si alguien tiene un 10 matemáticas"
   ]
  },
  {
   "cell_type": "code",
   "execution_count": null,
   "id": "0aa577f7",
   "metadata": {},
   "outputs": [],
   "source": [
    "# Versión con estructuras de control"
   ]
  },
  {
   "cell_type": "code",
   "execution_count": null,
   "id": "a029166d",
   "metadata": {},
   "outputs": [],
   "source": [
    "# Versión numpy"
   ]
  },
  {
   "cell_type": "markdown",
   "id": "fe975b94",
   "metadata": {},
   "source": [
    "# Comprobar si todos han aprobado física"
   ]
  },
  {
   "cell_type": "code",
   "execution_count": null,
   "id": "c9426733",
   "metadata": {},
   "outputs": [],
   "source": [
    "# Versión con estructuras de control"
   ]
  },
  {
   "cell_type": "code",
   "execution_count": null,
   "id": "36733e80",
   "metadata": {},
   "outputs": [],
   "source": [
    "# Versión numpy"
   ]
  },
  {
   "cell_type": "markdown",
   "id": "2c7df80a",
   "metadata": {},
   "source": [
    "# Generar un array de nombres de quienes han aprobado mates y física"
   ]
  },
  {
   "cell_type": "code",
   "execution_count": null,
   "id": "11b1e15d",
   "metadata": {},
   "outputs": [],
   "source": [
    "# Versión con estructuras de control"
   ]
  },
  {
   "cell_type": "code",
   "execution_count": null,
   "id": "495fa077",
   "metadata": {},
   "outputs": [],
   "source": [
    "# Versión numpy"
   ]
  },
  {
   "cell_type": "markdown",
   "id": "399adfc1",
   "metadata": {},
   "source": [
    "# Generar un array de nombres de quien ha aprobado mates pero no física"
   ]
  },
  {
   "cell_type": "code",
   "execution_count": null,
   "id": "69d72012",
   "metadata": {},
   "outputs": [],
   "source": [
    "# Versión con estructuras de control"
   ]
  },
  {
   "cell_type": "code",
   "execution_count": null,
   "id": "307e71af",
   "metadata": {},
   "outputs": [],
   "source": [
    "# Versión numpy"
   ]
  }
 ],
 "metadata": {
  "kernelspec": {
   "display_name": "entorno_tareas",
   "language": "python",
   "name": "python3"
  },
  "language_info": {
   "codemirror_mode": {
    "name": "ipython",
    "version": 3
   },
   "file_extension": ".py",
   "mimetype": "text/x-python",
   "name": "python",
   "nbconvert_exporter": "python",
   "pygments_lexer": "ipython3",
   "version": "3.12.3"
  }
 },
 "nbformat": 4,
 "nbformat_minor": 5
}
