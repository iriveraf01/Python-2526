{
 "cells": [
  {
   "cell_type": "markdown",
   "id": "da2271c7",
   "metadata": {},
   "source": [
    "# Ejercicios con while\n",
    "\n",
    "Vuelve a realizar los 4 ejercicios de **\"Numpy 1\"** utilizando un bucle **while** en lugar de for."
   ]
  },
  {
   "cell_type": "code",
   "execution_count": 19,
   "id": "643a95ad",
   "metadata": {},
   "outputs": [
    {
     "name": "stdout",
     "output_type": "stream",
     "text": [
      "4.5\n",
      "7.36\n",
      "7.0\n",
      "0.56\n"
     ]
    }
   ],
   "source": [
    "# Ejercicio 1\n",
    "# Obtén los atributos del ndarray de numpy, muéstralos por pantalla y muestra también su contenido elemento a elemento mediante un for\n",
    "lista = [4.5, 7.36, 7., 0.56]\n",
    "i = 0\n",
    "while len(lista) > i:    \n",
    "    print(lista[i])\n",
    "    i += 1"
   ]
  },
  {
   "cell_type": "code",
   "execution_count": 6,
   "id": "6a6316c6",
   "metadata": {},
   "outputs": [
    {
     "name": "stdout",
     "output_type": "stream",
     "text": [
      "[2 3 4 5 6]\n"
     ]
    }
   ],
   "source": [
    "# # Ejercicio 2\n",
    "# 1. Crear una función llamada “inicializar_array” que reciba por parámetro un ndarray y retorne el array modificado \n",
    "# con valores introducidos por teclado por el usuario usando un for.\n",
    "import numpy as np\n",
    "def inicializar_array(a):\n",
    "    return np.array(a)\n",
    "# 2. Una vez tenéis la función, crear un array del tamaño que sea e invocar a la función anterior, \n",
    "# guardando el return en una nueva variable.\n",
    "numeros = []\n",
    "# 3. Comprobar si ambos arrays tienen los mismos valores y son el mismo objeto.\n",
    "while len(numeros) < 5:\n",
    "    numero = int(input(\"Introduce numeros: \"))\n",
    "    numeros.append(numero)\n",
    "print(inicializar_array(numeros))"
   ]
  },
  {
   "cell_type": "code",
   "execution_count": 20,
   "id": "90f2ba99",
   "metadata": {},
   "outputs": [
    {
     "name": "stdout",
     "output_type": "stream",
     "text": [
      "2.6666666666666665\n",
      "4\n",
      "1\n"
     ]
    }
   ],
   "source": [
    "# Ejercicio 3\n",
    "# Crear 3 funciones, “media”, “máximo” y “mínimo”, que reciban un ndarray de valores numéricos \n",
    "# y devuelva la media aritmética, el valor máximo y el valor mínimo respectivamente. \n",
    "# Realizar el cálculo manualmente recorriendo el array con un for en lugar de usar las funciones predefinidas.\n",
    "array = [1, 2, 3, 3, 3, 4]\n",
    "def media(array):\n",
    "    suma = 0\n",
    "    i = 0\n",
    "    while len(array) > i:\n",
    "        suma += array[i]\n",
    "        i += 1\n",
    "    media = suma / len(array)\n",
    "    return media\n",
    "print(media(array))\n",
    "\n",
    "def maximo(array):\n",
    "    maximo = 0\n",
    "    i = 0\n",
    "    while len(array) > i:\n",
    "        if maximo < array[i]:\n",
    "            maximo = array[i]\n",
    "        i += 1\n",
    "    return maximo\n",
    "print(maximo(array))\n",
    "\n",
    "def minimo(array):\n",
    "    minimo = maximo(array)\n",
    "    i = 0\n",
    "    while len(array) > i:\n",
    "        if minimo > array[i]:\n",
    "            minimo = array[i]\n",
    "        i += 1\n",
    "    return minimo\n",
    "print(minimo(array))"
   ]
  },
  {
   "cell_type": "code",
   "execution_count": 25,
   "id": "ebb4adb2",
   "metadata": {},
   "outputs": [
    {
     "name": "stdout",
     "output_type": "stream",
     "text": [
      "2\n"
     ]
    }
   ],
   "source": [
    "# Ejercicio 4\n",
    "# Crear la función “encontrar” (usando for) que busque un valor dentro de un ndarray.\n",
    "\n",
    "# 1. Parámetros: recibe dos parámetros, un array numérico y un valor. \n",
    "# 2. Retorno: \n",
    "#     * Si valor se encuentra en el array, devolver el índice (primera aparición)\n",
    "#     * Si el valor no se encuentra en el array, devolver None.\n",
    "# 3. Invocar a la función con cualquier array y valor para testear su funcionamiento en ambos casos. \n",
    "array = [1, 2, 3, 3, 3, 4]\n",
    "def encontrar(array, numero):\n",
    "    i = 0\n",
    "    while len(array) > i:\n",
    "        if array[i] == numero:\n",
    "            return i\n",
    "        i += 1\n",
    "    return None\n",
    "print(encontrar(array, 3))"
   ]
  },
  {
   "cell_type": "markdown",
   "id": "e13f2c4e",
   "metadata": {},
   "source": [
    "### Ejercicio 5\n",
    "\n",
    "Crear una función “desviación estándar” que reciba por parámetro un array y devuelva la desviación estándar. Calcular paso a paso el resultado utilizando un **for** para recorrer el array. También se debe usar la función “media” del ejercicio 2. Para calcular la raíz cuadrada podemos usar la función de numpy.sqrt(n). Operador potencia es **"
   ]
  },
  {
   "cell_type": "code",
   "execution_count": null,
   "id": "35b66f63",
   "metadata": {},
   "outputs": [],
   "source": [
    "def desviacion_standar(array):\n",
    "    media_array = media(array)\n",
    "    sumatorio = 0\n",
    "    for elemento in array:\n",
    "        sumatorio += (elemento - media_array)**2\n",
    "    return (np.sqrt(sumatorio / array.size))"
   ]
  },
  {
   "cell_type": "markdown",
   "id": "b9249921",
   "metadata": {},
   "source": [
    "### A partir de aquí puedes usar las funciones de NumPy de las diapositivas, además de bucles o las funciones creadas en ejercicios anteriores."
   ]
  },
  {
   "cell_type": "markdown",
   "id": "bc06acc6",
   "metadata": {},
   "source": [
    "### Ejercicio 6 \n",
    "\n",
    "Crea una función reciba por parámetro un array y un valor y devuelva cuantas veces aparece ese valor en el array.\n"
   ]
  },
  {
   "cell_type": "code",
   "execution_count": null,
   "id": "52ebf859",
   "metadata": {},
   "outputs": [],
   "source": [
    "def contar():"
   ]
  },
  {
   "cell_type": "markdown",
   "id": "25980043",
   "metadata": {},
   "source": [
    "### Ejercicio 7\n",
    "\n",
    "Crea una función que reciba por parámetro un array y devuelva cuantas veces aparece el valor máximo en el array.\n"
   ]
  },
  {
   "cell_type": "code",
   "execution_count": null,
   "id": "5c877460",
   "metadata": {},
   "outputs": [],
   "source": [
    "def contar_maximo(array):\n",
    "    valor_maximo = np.max(array)"
   ]
  },
  {
   "cell_type": "markdown",
   "id": "a2246bcb",
   "metadata": {},
   "source": [
    "### Ejercicio 8\n",
    "\n",
    "Crea una función que reciba por parámetro un array y devuelva la moda."
   ]
  },
  {
   "cell_type": "code",
   "execution_count": null,
   "id": "1f0d0135",
   "metadata": {},
   "outputs": [],
   "source": [
    "def moda(array):\n",
    "    max_repetido = 0\n",
    "    array_unicos = np.unique(array)\n",
    "    for unico in array_unicos:\n",
    "        veces_repetido = contar(array, unico)\n",
    "        if veces_repetido > max_repetido:\n",
    "            max_repetido = veces_repetido\n",
    "            moda = unico\n",
    "    return moda"
   ]
  },
  {
   "cell_type": "markdown",
   "id": "a5f8a69c",
   "metadata": {},
   "source": [
    "### Ejercicio 9\n",
    "\n",
    "Crea una función que reciba por parámetro un array y devuelva otro array que contenga los índices (posiciones del array original) de aquellos valores que son mayores a la media del array."
   ]
  },
  {
   "cell_type": "code",
   "execution_count": null,
   "id": "1feed2fc",
   "metadata": {},
   "outputs": [],
   "source": []
  }
 ],
 "metadata": {
  "kernelspec": {
   "display_name": "entorno_tareas",
   "language": "python",
   "name": "python3"
  },
  "language_info": {
   "codemirror_mode": {
    "name": "ipython",
    "version": 3
   },
   "file_extension": ".py",
   "mimetype": "text/x-python",
   "name": "python",
   "nbconvert_exporter": "python",
   "pygments_lexer": "ipython3",
   "version": "3.12.3"
  }
 },
 "nbformat": 4,
 "nbformat_minor": 5
}
