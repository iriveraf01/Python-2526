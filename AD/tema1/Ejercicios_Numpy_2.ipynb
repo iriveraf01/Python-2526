{
 "cells": [
  {
   "cell_type": "markdown",
   "id": "da2271c7",
   "metadata": {},
   "source": [
    "# Ejercicios con while\n",
    "\n",
    "Vuelve a realizar los 4 ejercicios de **\"Numpy 1\"** utilizando un bucle **while** en lugar de for."
   ]
  },
  {
   "cell_type": "code",
   "execution_count": null,
   "id": "643a95ad",
   "metadata": {},
   "outputs": [],
   "source": [
    "# Ejercicio 1\n"
   ]
  },
  {
   "cell_type": "code",
   "execution_count": null,
   "id": "6a6316c6",
   "metadata": {},
   "outputs": [],
   "source": [
    "# Ejercico 2\n"
   ]
  },
  {
   "cell_type": "code",
   "execution_count": null,
   "id": "90f2ba99",
   "metadata": {},
   "outputs": [],
   "source": [
    "# Ejercicio 3\n"
   ]
  },
  {
   "cell_type": "code",
   "execution_count": 1,
   "id": "ebb4adb2",
   "metadata": {},
   "outputs": [],
   "source": [
    "# Ejercicio 4\n"
   ]
  },
  {
   "cell_type": "markdown",
   "id": "e13f2c4e",
   "metadata": {},
   "source": [
    "### Ejercicio 5\n",
    "\n",
    "Crear una función “desviación estándar” que reciba por parámetro un array y devuelva la desviación estándar. Calcular paso a paso el resultado utilizando un **for** para recorrer el array. También se debe usar la función “media” del ejercicio 2. Para calcular la raíz cuadrada podemos usar la función de numpy.sqrt(n). Operador potencia es **"
   ]
  },
  {
   "cell_type": "code",
   "execution_count": null,
   "id": "35b66f63",
   "metadata": {},
   "outputs": [],
   "source": []
  },
  {
   "cell_type": "markdown",
   "id": "b9249921",
   "metadata": {},
   "source": [
    "# A partir de aquí puedes usar las funciones de NumPy de las diapositivas, además de bucles o las funciones creadas en ejercicios anteriores."
   ]
  },
  {
   "cell_type": "markdown",
   "id": "bc06acc6",
   "metadata": {},
   "source": [
    "### Ejercicio 6 \n",
    "\n",
    "Crea una función reciba por parámetro un array y un valor y devuelva cuantas veces aparece ese valor en el array.\n"
   ]
  },
  {
   "cell_type": "code",
   "execution_count": null,
   "id": "52ebf859",
   "metadata": {},
   "outputs": [],
   "source": []
  },
  {
   "cell_type": "markdown",
   "id": "25980043",
   "metadata": {},
   "source": [
    "### Ejercicio 7\n",
    "\n",
    "Crea una función que reciba por parámetro un array y devuelva cuantas veces aparece el valor máximo en el array.\n"
   ]
  },
  {
   "cell_type": "code",
   "execution_count": null,
   "id": "5c877460",
   "metadata": {},
   "outputs": [],
   "source": []
  },
  {
   "cell_type": "markdown",
   "id": "a2246bcb",
   "metadata": {},
   "source": [
    "### Ejercicio 8\n",
    "\n",
    "Crea una función que reciba por parámetro un array y devuelva la moda."
   ]
  },
  {
   "cell_type": "code",
   "execution_count": null,
   "id": "1f0d0135",
   "metadata": {},
   "outputs": [],
   "source": []
  },
  {
   "cell_type": "markdown",
   "id": "a5f8a69c",
   "metadata": {},
   "source": [
    "### Ejercicio 9\n",
    "\n",
    "Crea una función que reciba por parámetro un array y devuelva otro array que contenga los índices (posiciones del array original) de aquellos valores que son mayores a la media del array."
   ]
  },
  {
   "cell_type": "code",
   "execution_count": null,
   "id": "1feed2fc",
   "metadata": {},
   "outputs": [],
   "source": []
  }
 ],
 "metadata": {
  "kernelspec": {
   "display_name": "Python 3 (ipykernel)",
   "language": "python",
   "name": "python3"
  },
  "language_info": {
   "codemirror_mode": {
    "name": "ipython",
    "version": 3
   },
   "file_extension": ".py",
   "mimetype": "text/x-python",
   "name": "python",
   "nbconvert_exporter": "python",
   "pygments_lexer": "ipython3",
   "version": "3.11.5"
  }
 },
 "nbformat": 4,
 "nbformat_minor": 5
}
