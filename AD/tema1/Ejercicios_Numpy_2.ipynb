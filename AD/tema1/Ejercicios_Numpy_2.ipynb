{
 "cells": [
  {
   "cell_type": "markdown",
   "id": "da2271c7",
   "metadata": {},
   "source": [
    "# Ejercicios con while\n",
    "\n",
    "Vuelve a realizar los 4 ejercicios de **\"Numpy 1\"** utilizando un bucle **while** en lugar de for."
   ]
  },
  {
   "cell_type": "code",
   "execution_count": 19,
   "id": "643a95ad",
   "metadata": {},
   "outputs": [
    {
     "name": "stdout",
     "output_type": "stream",
     "text": [
      "4.5\n",
      "7.36\n",
      "7.0\n",
      "0.56\n"
     ]
    }
   ],
   "source": [
    "# Ejercicio 1\n",
    "# Obtén los atributos del ndarray de numpy, muéstralos por pantalla y muestra también su contenido elemento a elemento mediante un for\n",
    "lista = [4.5, 7.36, 7., 0.56]\n",
    "i = 0\n",
    "while len(lista) > i:    \n",
    "    print(lista[i])\n",
    "    i += 1"
   ]
  },
  {
   "cell_type": "code",
   "execution_count": 2,
   "id": "6a6316c6",
   "metadata": {},
   "outputs": [
    {
     "name": "stdout",
     "output_type": "stream",
     "text": [
      "[2 2 2 2 2]\n"
     ]
    }
   ],
   "source": [
    "# # Ejercicio 2\n",
    "# 1. Crear una función llamada “inicializar_array” que reciba por parámetro un ndarray y retorne el array modificado \n",
    "# con valores introducidos por teclado por el usuario usando un for.\n",
    "import numpy as np\n",
    "def inicializar_array(a):\n",
    "    return np.array(a)\n",
    "# 2. Una vez tenéis la función, crear un array del tamaño que sea e invocar a la función anterior, \n",
    "# guardando el return en una nueva variable.\n",
    "numeros = []\n",
    "# 3. Comprobar si ambos arrays tienen los mismos valores y son el mismo objeto.\n",
    "while len(numeros) < 5:\n",
    "    numero = int(input(\"Introduce numeros: \"))\n",
    "    numeros.append(numero)\n",
    "print(inicializar_array(numeros))"
   ]
  },
  {
   "cell_type": "code",
   "execution_count": 5,
   "id": "90f2ba99",
   "metadata": {},
   "outputs": [
    {
     "name": "stdout",
     "output_type": "stream",
     "text": [
      "2.6666666666666665\n",
      "4\n",
      "1\n"
     ]
    }
   ],
   "source": [
    "# Ejercicio 3\n",
    "# Crear 3 funciones, “media”, “máximo” y “mínimo”, que reciban un ndarray de valores numéricos \n",
    "# y devuelva la media aritmética, el valor máximo y el valor mínimo respectivamente. \n",
    "# Realizar el cálculo manualmente recorriendo el array con un for en lugar de usar las funciones predefinidas.\n",
    "array = [1, 2, 3, 3, 3, 4]\n",
    "def media(array):\n",
    "    suma = 0\n",
    "    i = 0\n",
    "    while len(array) > i:\n",
    "        suma += array[i]\n",
    "        i += 1\n",
    "    media = suma / len(array)\n",
    "    return media\n",
    "print(media(array))\n",
    "\n",
    "def maximo(array):\n",
    "    maximo = 0\n",
    "    i = 0\n",
    "    while len(array) > i:\n",
    "        if maximo < array[i]:\n",
    "            maximo = array[i]\n",
    "        i += 1\n",
    "    return maximo\n",
    "print(maximo(array))\n",
    "\n",
    "def minimo(array):\n",
    "    minimo = maximo(array)\n",
    "    i = 0\n",
    "    while len(array) > i:\n",
    "        if minimo > array[i]:\n",
    "            minimo = array[i]\n",
    "        i += 1\n",
    "    return minimo\n",
    "print(minimo(array))"
   ]
  },
  {
   "cell_type": "code",
   "execution_count": 25,
   "id": "ebb4adb2",
   "metadata": {},
   "outputs": [
    {
     "name": "stdout",
     "output_type": "stream",
     "text": [
      "2\n"
     ]
    }
   ],
   "source": [
    "# Ejercicio 4\n",
    "# Crear la función “encontrar” (usando for) que busque un valor dentro de un ndarray.\n",
    "\n",
    "# 1. Parámetros: recibe dos parámetros, un array numérico y un valor. \n",
    "# 2. Retorno: \n",
    "#     * Si valor se encuentra en el array, devolver el índice (primera aparición)\n",
    "#     * Si el valor no se encuentra en el array, devolver None.\n",
    "# 3. Invocar a la función con cualquier array y valor para testear su funcionamiento en ambos casos. \n",
    "array = [1, 2, 3, 3, 3, 4]\n",
    "def encontrar(array, numero):\n",
    "    i = 0\n",
    "    while len(array) > i:\n",
    "        if array[i] == numero:\n",
    "            return i\n",
    "        i += 1\n",
    "    return None\n",
    "print(encontrar(array, 3))"
   ]
  },
  {
   "cell_type": "markdown",
   "id": "e13f2c4e",
   "metadata": {},
   "source": [
    "### Ejercicio 5\n",
    "\n",
    "Crear una función “desviación estándar” que reciba por parámetro un array y devuelva la desviación estándar. Calcular paso a paso el resultado utilizando un **for** para recorrer el array. También se debe usar la función “media” del ejercicio 2. Para calcular la raíz cuadrada podemos usar la función de numpy.sqrt(n). Operador potencia es **"
   ]
  },
  {
   "cell_type": "code",
   "execution_count": 6,
   "id": "35b66f63",
   "metadata": {},
   "outputs": [
    {
     "name": "stdout",
     "output_type": "stream",
     "text": [
      "Desviación estándar cálculo manual: 9.84171605971235\n",
      "Desviación estándar función NumPy : 9.84171605971235\n"
     ]
    }
   ],
   "source": [
    "def desviacion_standar(array):\n",
    "    media_array = media(array)\n",
    "    sumatorio = 0\n",
    "    for elemento in array:\n",
    "        sumatorio += (elemento - media_array)**2\n",
    "    return (np.sqrt(sumatorio / array.size))\n",
    "mi_array = np.array([1, -5, 8, 25, -7, 5, 0, 14])\n",
    "print(\"Desviación estándar cálculo manual:\", desviacion_standar(mi_array))\n",
    "print(\"Desviación estándar función NumPy :\", np.std(mi_array))"
   ]
  },
  {
   "cell_type": "markdown",
   "id": "b9249921",
   "metadata": {},
   "source": [
    "### A partir de aquí puedes usar las funciones de NumPy de las diapositivas, además de bucles o las funciones creadas en ejercicios anteriores."
   ]
  },
  {
   "cell_type": "markdown",
   "id": "bc06acc6",
   "metadata": {},
   "source": [
    "### Ejercicio 6 \n",
    "\n",
    "Crea una función reciba por parámetro un array y un valor y devuelva cuantas veces aparece ese valor en el array.\n"
   ]
  },
  {
   "cell_type": "code",
   "execution_count": 3,
   "id": "52ebf859",
   "metadata": {},
   "outputs": [
    {
     "name": "stdout",
     "output_type": "stream",
     "text": [
      "El número 5 se encuentra en el array 3 veces\n"
     ]
    }
   ],
   "source": [
    "def contar(array, valor):\n",
    "    total = 0\n",
    "    for i in array:\n",
    "        if i == valor:\n",
    "            total += 1\n",
    "    return total\n",
    "mi_array = np.array([1, -5, 8, 25, -7, 5, 0, 14, 5, 5, 8])\n",
    "numero = 5\n",
    "print(f\"El número {numero} se encuentra en el array {contar(mi_array, numero)} veces\")"
   ]
  },
  {
   "cell_type": "markdown",
   "id": "25980043",
   "metadata": {},
   "source": [
    "### Ejercicio 7\n",
    "\n",
    "Crea una función que reciba por parámetro un array y devuelva cuantas veces aparece el valor máximo en el array.\n"
   ]
  },
  {
   "cell_type": "code",
   "execution_count": 7,
   "id": "5c877460",
   "metadata": {},
   "outputs": [
    {
     "name": "stdout",
     "output_type": "stream",
     "text": [
      "El valor máximo aparece 2 veces\n"
     ]
    }
   ],
   "source": [
    "def contar_maximo(array):\n",
    "    maximo = np.max(array)\n",
    "    total = contar(array, maximo)\n",
    "    return total\n",
    "mi_array = np.array([1, -5, 8, 25, -7, 5, 0, 14, 25, 5, 8])\n",
    "print(f\"El valor máximo aparece {contar_maximo(mi_array)} veces\")"
   ]
  },
  {
   "cell_type": "markdown",
   "id": "a2246bcb",
   "metadata": {},
   "source": [
    "### Ejercicio 8\n",
    "\n",
    "Crea una función que reciba por parámetro un array y devuelva la moda."
   ]
  },
  {
   "cell_type": "code",
   "execution_count": 8,
   "id": "1f0d0135",
   "metadata": {},
   "outputs": [
    {
     "name": "stdout",
     "output_type": "stream",
     "text": [
      "La moda es 1\n"
     ]
    }
   ],
   "source": [
    "def moda(array):\n",
    "    max_repetido = 0\n",
    "    array_unicos = np.unique(array)\n",
    "    for unico in array_unicos:\n",
    "        veces_repetido = contar(array, unico)\n",
    "        if veces_repetido > max_repetido:\n",
    "            max_repetido = veces_repetido\n",
    "            moda = unico\n",
    "    return moda\n",
    "mi_array = np.array([1, -5, 5, 25, -7, 5, 0, 14, 25, 5, 8, 1, 1])\n",
    "print(f\"La moda es {moda(mi_array)}\") "
   ]
  },
  {
   "cell_type": "markdown",
   "id": "a5f8a69c",
   "metadata": {},
   "source": [
    "### Ejercicio 9\n",
    "\n",
    "Crea una función que reciba por parámetro un array y devuelva otro array que contenga los índices (posiciones del array original) de aquellos valores que son mayores a la media del array."
   ]
  },
  {
   "cell_type": "code",
   "execution_count": 9,
   "id": "1feed2fc",
   "metadata": {},
   "outputs": [
    {
     "name": "stdout",
     "output_type": "stream",
     "text": [
      "Array original:  [ 1 -5  5 25 -7  5  0 14 25  5  8  1  1]\n",
      "La media es 6.0\n",
      "Array de índices mayores a la media [ 3  7  8 10]\n"
     ]
    }
   ],
   "source": [
    "def indices_mayores_media(array):\n",
    "    media = np.mean(array)\n",
    "\n",
    "    array_mayores = array > media\n",
    "    num_mayores = np.sum(array_mayores)\n",
    "    \n",
    "    array_indices = np.zeros(num_mayores, dtype=np.int32)  \n",
    "\n",
    "    indice = 0\n",
    "    for i in range(array.size):\n",
    "        if array[i] > media:\n",
    "            array_indices[indice] = i\n",
    "            indice+=1\n",
    "            \n",
    "    return array_indices\n",
    "mi_array = np.array([1, -5, 5, 25, -7, 5, 0, 14, 25, 5, 8, 1, 1])\n",
    "print(\"Array original: \", mi_array)\n",
    "print(f\"La media es {mi_array.mean()}\") \n",
    "print(\"Array de índices mayores a la media\", indices_mayores_media(mi_array))"
   ]
  }
 ],
 "metadata": {
  "kernelspec": {
   "display_name": "entorno_tareas",
   "language": "python",
   "name": "python3"
  },
  "language_info": {
   "codemirror_mode": {
    "name": "ipython",
    "version": 3
   },
   "file_extension": ".py",
   "mimetype": "text/x-python",
   "name": "python",
   "nbconvert_exporter": "python",
   "pygments_lexer": "ipython3",
   "version": "3.12.3"
  }
 },
 "nbformat": 4,
 "nbformat_minor": 5
}
