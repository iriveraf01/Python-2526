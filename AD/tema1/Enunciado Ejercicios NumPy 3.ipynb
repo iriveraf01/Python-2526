{
 "cells": [
  {
   "cell_type": "markdown",
   "id": "a5e376e0",
   "metadata": {},
   "source": [
    "# Array de datos inicial\n",
    "\n",
    "Disponemos de 2 arrays de datos:\n",
    "\n",
    "+ ndarray de nombres\n",
    "+ ndarray de notas\n",
    "\n",
    "Los arrays tienen el mismo tamaño y se relacionan por su índice. \"Alberto\" ocupta el índice 0, su nota corresponde al índice 0.\n",
    "\n",
    "\n",
    "Para hacer estos ejercicios hay que avanzar en el **Tema 1 hasta la página 24**\n",
    "\n",
    "Estos ejercicios se realizan invocando funcionalidades de numpy, por lo que cada acción que se pide se realiza en una o dos líneas de código, sin utilizar estructuras de control"
   ]
  },
  {
   "cell_type": "code",
   "execution_count": 6,
   "id": "0cb3f549",
   "metadata": {},
   "outputs": [
    {
     "name": "stdout",
     "output_type": "stream",
     "text": [
      "['Alberto' 'Álvaro' 'Antonio' 'Guillermo' 'José Manuel' 'Juan Diego'\n",
      " 'Juan Ignacio' 'Juan José' 'María' 'Raúl' 'Victor']\n",
      "[8 1 6 5 6 3 3 1 7 8 4]\n"
     ]
    }
   ],
   "source": [
    "import numpy as np\n",
    "\n",
    "nombres = np.array([\"Alberto\", \"Álvaro\", \"Antonio\", \"Guillermo\", \"José Manuel\", \"Juan Diego\", \"Juan Ignacio\",\n",
    "                    \"Juan José\", \"María\", \"Raúl\", \"Victor\"])\n",
    "print(nombres)\n",
    "notas = np.random.randint(1, 11, nombres.size)\n",
    "print(notas)"
   ]
  },
  {
   "cell_type": "markdown",
   "id": "ebfa6b19",
   "metadata": {},
   "source": [
    "# Métodos del ndarray, funciones de numpy y slicing\n",
    "\n",
    "Realiza lo que se pide en cada comentario usando un método del propio objeto ndarray, función directa de numpy o el slice igual que en listas.\n",
    "\n"
   ]
  },
  {
   "cell_type": "code",
   "execution_count": 4,
   "id": "df3642c4",
   "metadata": {},
   "outputs": [],
   "source": [
    "# Muestra Nota media de los alumnos\n",
    "\n",
    "\n",
    "# Muestra Desviación estándar\n",
    "\n",
    "\n",
    "# Mostrar nombres del revés mediante una slice\n",
    "\n",
    "\n",
    "# Ordenar, haciendo una copia de datos en otra variable, las notas de menor a mayor\n"
   ]
  },
  {
   "cell_type": "markdown",
   "id": "25e61e21",
   "metadata": {},
   "source": [
    "# Aritmética, Comparaciones e indexación booleana\n",
    "\n",
    "Estos ejercicios requieren alguna comparación de arrays, indexación booleana y aritmética, además de alguna función o método de numpy. Si no controlas la indexación booleana busca antes en los apuntes y realiza tus propias pruebas hasta controlar cómo funcionan."
   ]
  },
  {
   "cell_type": "code",
   "execution_count": 5,
   "id": "45227cba",
   "metadata": {},
   "outputs": [],
   "source": [
    "# Sumar 1 a todas las notas\n",
    "\n",
    "\n",
    "\n",
    "# Muestra cuántos hay aprobados\n",
    "\n",
    "\n",
    "\n",
    "# Mostrar nombres de alumnos aprobados\n",
    "\n",
    "\n",
    "\n",
    "\n",
    "# Mostrar nombres con nota superior a la media\n",
    "\n",
    "\n",
    "\n",
    "# Asignar un 5 a los que tienen un 4\n",
    "\n",
    "\n",
    "\n",
    "\n",
    "# Sumar 1 a todas las notas mayores a 4"
   ]
  },
  {
   "cell_type": "code",
   "execution_count": null,
   "id": "eebb4a4d",
   "metadata": {},
   "outputs": [],
   "source": []
  }
 ],
 "metadata": {
  "kernelspec": {
   "display_name": "Python 3 (ipykernel)",
   "language": "python",
   "name": "python3"
  },
  "language_info": {
   "codemirror_mode": {
    "name": "ipython",
    "version": 3
   },
   "file_extension": ".py",
   "mimetype": "text/x-python",
   "name": "python",
   "nbconvert_exporter": "python",
   "pygments_lexer": "ipython3",
   "version": "3.11.5"
  }
 },
 "nbformat": 4,
 "nbformat_minor": 5
}
