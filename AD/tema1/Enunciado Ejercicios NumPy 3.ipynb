{
 "cells": [
  {
   "cell_type": "markdown",
   "id": "a5e376e0",
   "metadata": {},
   "source": [
    "# Array de datos inicial\n",
    "\n",
    "Disponemos de 2 arrays de datos:\n",
    "\n",
    "+ ndarray de nombres\n",
    "+ ndarray de notas\n",
    "\n",
    "Los arrays tienen el mismo tamaño y se relacionan por su índice. \"Alberto\" ocupta el índice 0, su nota corresponde al índice 0.\n",
    "\n",
    "\n",
    "Para hacer estos ejercicios hay que avanzar en el **Tema 1 hasta la página 24**\n",
    "\n",
    "Estos ejercicios se realizan invocando funcionalidades de numpy, por lo que cada acción que se pide se realiza en una o dos líneas de código, sin utilizar estructuras de control"
   ]
  },
  {
   "cell_type": "code",
   "execution_count": 69,
   "id": "0cb3f549",
   "metadata": {},
   "outputs": [
    {
     "name": "stdout",
     "output_type": "stream",
     "text": [
      "['Alberto' 'Álvaro' 'Antonio' 'Guillermo' 'José Manuel' 'Juan Diego'\n",
      " 'Juan Ignacio' 'Juan José' 'María' 'Raúl' 'Victor']\n",
      "[ 8  8  8 10  1  5  4 10  5  2  5]\n"
     ]
    }
   ],
   "source": [
    "import numpy as np\n",
    "\n",
    "nombres = np.array([\"Alberto\", \"Álvaro\", \"Antonio\", \"Guillermo\", \"José Manuel\", \"Juan Diego\", \"Juan Ignacio\",\n",
    "                    \"Juan José\", \"María\", \"Raúl\", \"Victor\"])\n",
    "print(nombres)\n",
    "notas = np.random.randint(1, 11, nombres.size)\n",
    "print(notas)"
   ]
  },
  {
   "cell_type": "markdown",
   "id": "ebfa6b19",
   "metadata": {},
   "source": [
    "# Métodos del ndarray, funciones de numpy y slicing\n",
    "\n",
    "Realiza lo que se pide en cada comentario usando un método del propio objeto ndarray, función directa de numpy o el slice igual que en listas.\n",
    "\n"
   ]
  },
  {
   "cell_type": "code",
   "execution_count": 70,
   "id": "df3642c4",
   "metadata": {},
   "outputs": [
    {
     "name": "stdout",
     "output_type": "stream",
     "text": [
      "La media es de 6.0\n",
      "Desviación estándar: 2.891995221924885\n",
      "Nombres ordenados al revés\n",
      "['Victor' 'Raúl' 'María' 'Juan José' 'Juan Ignacio' 'Juan Diego'\n",
      " 'José Manuel' 'Guillermo' 'Antonio' 'Álvaro' 'Alberto']\n",
      "[ 1  2  4  5  5  5  8  8  8 10 10]\n"
     ]
    }
   ],
   "source": [
    "import numpy as np\n",
    "# Muestra Nota media de los alumnos\n",
    "media = np.sum(notas) / len(notas)\n",
    "print(f\"La media es de {media}\")\n",
    "# Muestra Desviación estándar\n",
    "print(f\"Desviación estándar: {np.std(notas)}\")\n",
    "\n",
    "# Mostrar nombres del revés mediante una slice\n",
    "print(f\"Nombres ordenados al revés\\n{nombres[-1::-1]}\")\n",
    "\n",
    "# Ordenar, haciendo una copia de datos en otra variable, las notas de menor a mayor\n",
    "copy_notas = notas.copy()\n",
    "copy_notas.sort()\n",
    "print(copy_notas)"
   ]
  },
  {
   "cell_type": "markdown",
   "id": "25e61e21",
   "metadata": {},
   "source": [
    "# Aritmética, Comparaciones e indexación booleana\n",
    "\n",
    "Estos ejercicios requieren alguna comparación de arrays, indexación booleana y aritmética, además de alguna función o método de numpy. Si no controlas la indexación booleana busca antes en los apuntes y realiza tus propias pruebas hasta controlar cómo funcionan."
   ]
  },
  {
   "cell_type": "code",
   "execution_count": 71,
   "id": "45227cba",
   "metadata": {},
   "outputs": [
    {
     "name": "stdout",
     "output_type": "stream",
     "text": [
      "[ 9  9  9 11  2  6  5 11  6  3  6]\n",
      "9\n",
      "['Alberto' 'Álvaro' 'Antonio' 'Guillermo' 'Juan Diego' 'Juan José' 'María'\n",
      " 'Victor']\n",
      "['Alberto' 'Álvaro' 'Antonio' 'Guillermo' 'Juan José']\n",
      "[ 9  9  9 11  2  6  5 11  6  3  6]\n",
      "[10 10 10 12  2  7  6 12  7  3  7]\n"
     ]
    }
   ],
   "source": [
    "# Sumar 1 a todas las notas\n",
    "notas += 1\n",
    "print(notas)\n",
    "\n",
    "# Muestra cuántos hay aprobados\n",
    "print((notas >= 5).sum())\n",
    "# aprobados = 0\n",
    "# for i in notas:\n",
    "#     if i >= 5:\n",
    "#         aprobados += 1\n",
    "# print(f\"Han aprobado {aprobados} alumnos.\")\n",
    "\n",
    "# Mostrar nombres de alumnos aprobados\n",
    "print(nombres[notas > 5])\n",
    "\n",
    "# Mostrar nombres con nota superior a la media\n",
    "media = np.sum(notas) / len(notas)\n",
    "print(nombres[notas > media])\n",
    "\n",
    "# Asignar un 5 a los que tienen un 4\n",
    "notas[notas == 4] = 5\n",
    "print(notas)\n",
    "\n",
    "# Sumar 1 a todas las notas mayores a 4\n",
    "notas[notas > 4] += 1\n",
    "print(notas)"
   ]
  }
 ],
 "metadata": {
  "kernelspec": {
   "display_name": "entorno_tareas",
   "language": "python",
   "name": "python3"
  },
  "language_info": {
   "codemirror_mode": {
    "name": "ipython",
    "version": 3
   },
   "file_extension": ".py",
   "mimetype": "text/x-python",
   "name": "python",
   "nbconvert_exporter": "python",
   "pygments_lexer": "ipython3",
   "version": "3.12.3"
  }
 },
 "nbformat": 4,
 "nbformat_minor": 5
}
