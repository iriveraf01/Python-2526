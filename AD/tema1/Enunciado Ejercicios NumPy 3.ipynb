{
 "cells": [
  {
   "cell_type": "markdown",
   "id": "a5e376e0",
   "metadata": {},
   "source": [
    "# Array de datos inicial\n",
    "\n",
    "Disponemos de 2 arrays de datos:\n",
    "\n",
    "+ ndarray de nombres\n",
    "+ ndarray de notas\n",
    "\n",
    "Los arrays tienen el mismo tamaño y se relacionan por su índice. \"Alberto\" ocupta el índice 0, su nota corresponde al índice 0.\n",
    "\n",
    "\n",
    "Para hacer estos ejercicios hay que avanzar en el **Tema 1 hasta la página 24**\n",
    "\n",
    "Estos ejercicios se realizan invocando funcionalidades de numpy, por lo que cada acción que se pide se realiza en una o dos líneas de código, sin utilizar estructuras de control"
   ]
  },
  {
   "cell_type": "code",
   "execution_count": 6,
   "id": "0cb3f549",
   "metadata": {},
   "outputs": [
    {
     "ename": "ModuleNotFoundError",
     "evalue": "No module named 'numpy'",
     "output_type": "error",
     "traceback": [
      "\u001b[31m---------------------------------------------------------------------------\u001b[39m",
      "\u001b[31mModuleNotFoundError\u001b[39m                       Traceback (most recent call last)",
      "\u001b[36mCell\u001b[39m\u001b[36m \u001b[39m\u001b[32mIn[6]\u001b[39m\u001b[32m, line 1\u001b[39m\n\u001b[32m----> \u001b[39m\u001b[32m1\u001b[39m \u001b[38;5;28;01mimport\u001b[39;00m\u001b[38;5;250m \u001b[39m\u001b[34;01mnumpy\u001b[39;00m\u001b[38;5;250m \u001b[39m\u001b[38;5;28;01mas\u001b[39;00m\u001b[38;5;250m \u001b[39m\u001b[34;01mnp\u001b[39;00m\n\u001b[32m      3\u001b[39m nombres = np.array([\u001b[33m\"\u001b[39m\u001b[33mAlberto\u001b[39m\u001b[33m\"\u001b[39m, \u001b[33m\"\u001b[39m\u001b[33mÁlvaro\u001b[39m\u001b[33m\"\u001b[39m, \u001b[33m\"\u001b[39m\u001b[33mAntonio\u001b[39m\u001b[33m\"\u001b[39m, \u001b[33m\"\u001b[39m\u001b[33mGuillermo\u001b[39m\u001b[33m\"\u001b[39m, \u001b[33m\"\u001b[39m\u001b[33mJosé Manuel\u001b[39m\u001b[33m\"\u001b[39m, \u001b[33m\"\u001b[39m\u001b[33mJuan Diego\u001b[39m\u001b[33m\"\u001b[39m, \u001b[33m\"\u001b[39m\u001b[33mJuan Ignacio\u001b[39m\u001b[33m\"\u001b[39m,\n\u001b[32m      4\u001b[39m                     \u001b[33m\"\u001b[39m\u001b[33mJuan José\u001b[39m\u001b[33m\"\u001b[39m, \u001b[33m\"\u001b[39m\u001b[33mMaría\u001b[39m\u001b[33m\"\u001b[39m, \u001b[33m\"\u001b[39m\u001b[33mRaúl\u001b[39m\u001b[33m\"\u001b[39m, \u001b[33m\"\u001b[39m\u001b[33mVictor\u001b[39m\u001b[33m\"\u001b[39m])\n\u001b[32m      5\u001b[39m \u001b[38;5;28mprint\u001b[39m(nombres)\n",
      "\u001b[31mModuleNotFoundError\u001b[39m: No module named 'numpy'"
     ]
    }
   ],
   "source": [
    "import numpy as np\n",
    "\n",
    "nombres = np.array([\"Alberto\", \"Álvaro\", \"Antonio\", \"Guillermo\", \"José Manuel\", \"Juan Diego\", \"Juan Ignacio\",\n",
    "                    \"Juan José\", \"María\", \"Raúl\", \"Victor\"])\n",
    "print(nombres)\n",
    "notas = np.random.randint(1, 11, nombres.size)\n",
    "print(notas)"
   ]
  },
  {
   "cell_type": "markdown",
   "id": "ebfa6b19",
   "metadata": {},
   "source": [
    "# Métodos del ndarray, funciones de numpy y slicing\n",
    "\n",
    "Realiza lo que se pide en cada comentario usando un método del propio objeto ndarray, función directa de numpy o el slice igual que en listas.\n",
    "\n"
   ]
  },
  {
   "cell_type": "code",
   "execution_count": 4,
   "id": "df3642c4",
   "metadata": {},
   "outputs": [],
   "source": [
    "# Muestra Nota media de los alumnos\n",
    "\n",
    "\n",
    "# Muestra Desviación estándar\n",
    "\n",
    "\n",
    "# Mostrar nombres del revés mediante una slice\n",
    "\n",
    "\n",
    "# Ordenar, haciendo una copia de datos en otra variable, las notas de menor a mayor\n"
   ]
  },
  {
   "cell_type": "markdown",
   "id": "25e61e21",
   "metadata": {},
   "source": [
    "# Aritmética, Comparaciones e indexación booleana\n",
    "\n",
    "Estos ejercicios requieren alguna comparación de arrays, indexación booleana y aritmética, además de alguna función o método de numpy. Si no controlas la indexación booleana busca antes en los apuntes y realiza tus propias pruebas hasta controlar cómo funcionan."
   ]
  },
  {
   "cell_type": "code",
   "execution_count": 5,
   "id": "45227cba",
   "metadata": {},
   "outputs": [],
   "source": [
    "# Sumar 1 a todas las notas\n",
    "\n",
    "\n",
    "\n",
    "# Muestra cuántos hay aprobados\n",
    "\n",
    "\n",
    "\n",
    "# Mostrar nombres de alumnos aprobados\n",
    "\n",
    "\n",
    "\n",
    "\n",
    "# Mostrar nombres con nota superior a la media\n",
    "\n",
    "\n",
    "\n",
    "# Asignar un 5 a los que tienen un 4\n",
    "\n",
    "\n",
    "\n",
    "\n",
    "# Sumar 1 a todas las notas mayores a 4"
   ]
  },
  {
   "cell_type": "code",
   "execution_count": null,
   "id": "eebb4a4d",
   "metadata": {},
   "outputs": [],
   "source": []
  }
 ],
 "metadata": {
  "kernelspec": {
   "display_name": "Python 3",
   "language": "python",
   "name": "python3"
  },
  "language_info": {
   "codemirror_mode": {
    "name": "ipython",
    "version": 3
   },
   "file_extension": ".py",
   "mimetype": "text/x-python",
   "name": "python",
   "nbconvert_exporter": "python",
   "pygments_lexer": "ipython3",
   "version": "3.14.0"
  }
 },
 "nbformat": 4,
 "nbformat_minor": 5
}
