{
 "cells": [
  {
   "cell_type": "markdown",
   "id": "ed4802e0",
   "metadata": {},
   "source": [
    "# Indexación y tamaño\n",
    "\n",
    "Rellena lo que haga falta después de la , de cada print para hacer lo que indica el comentario."
   ]
  },
  {
   "cell_type": "code",
   "execution_count": 18,
   "id": "bd409c79",
   "metadata": {},
   "outputs": [
    {
     "name": "stdout",
     "output_type": "stream",
     "text": [
      "Tamaño: 4\n",
      "Primer elemento: 1\n",
      "Último elemento: 4\n",
      "Elemento posición 2: 2\n"
     ]
    }
   ],
   "source": [
    "lista = [1, 2, 3, 4]\n",
    "\n",
    "# Imprime cuántos elementos tiene la lista\n",
    "print(\"Tamaño:\", len(lista))\n",
    "\n",
    "# Imprime el primer elemento de la lista\n",
    "print(\"Primer elemento:\", lista[0])\n",
    "\n",
    "# Imprime el último elemento de la lista (usando índice negativo)\n",
    "print(\"Último elemento:\", lista[-1])\n",
    "\n",
    "# Imprime el valor 3 de la lista utilizando su índice\n",
    "print(\"Elemento posición 2:\", lista[1])"
   ]
  },
  {
   "cell_type": "markdown",
   "id": "6165f4db",
   "metadata": {},
   "source": [
    "# Operadores \"aritméticos\"\n",
    "\n",
    "Después de cada operación imprime el resultado. \n",
    "\n",
    "La salida debe ser así: \n",
    "\n",
    "Paso 1: [1, 2, 3, 4]\n",
    "\n",
    "Paso 2: [1, 2, 3, 4, 1, 2, 3, 4]"
   ]
  },
  {
   "cell_type": "code",
   "execution_count": 20,
   "id": "216e8cce",
   "metadata": {},
   "outputs": [
    {
     "name": "stdout",
     "output_type": "stream",
     "text": [
      "[1, 2, 3, 4]\n",
      "[1, 2, 3, 4, 1, 2, 3, 4]\n"
     ]
    }
   ],
   "source": [
    "lista = [1, 2]\n",
    "lista2 = [3, 4]\n",
    "\n",
    "# Concatena ambas listas dentro de la variable lista\n",
    "lista = lista + lista2\n",
    "print(lista)\n",
    "\n",
    "# Multiplica lista * 2, guardándola en variable lista\n",
    "lista *= 2\n",
    "print(lista)"
   ]
  },
  {
   "cell_type": "markdown",
   "id": "463341bb",
   "metadata": {},
   "source": [
    "# Recorrer lista con for\n",
    "\n",
    "La salida debe ser:\n",
    "\n",
    "1:2:3:4:5:"
   ]
  },
  {
   "cell_type": "code",
   "execution_count": 25,
   "id": "895cff7c",
   "metadata": {},
   "outputs": [
    {
     "name": "stdout",
     "output_type": "stream",
     "text": [
      "1:2:3:4:5:\n"
     ]
    }
   ],
   "source": [
    "lista = [1, 2, 3, 4, 5]\n",
    "\n",
    "# Recorre la lista con un for, imprime los elementos en una sola línea, separados por :\n",
    "for i in lista:\n",
    "    print(i, end=\":\")\n",
    "\n",
    "# Hacemos un print al final para hacer un salto de línea\n",
    "print()"
   ]
  },
  {
   "cell_type": "markdown",
   "id": "f4804c5a",
   "metadata": {},
   "source": [
    "# Insercción de elementos en una lista\n",
    "\n",
    "La salida debe ser:\n",
    "\n",
    "Paso 1: [1]\n",
    "\n",
    "Paso 2: [1, 2]\n",
    "\n",
    "Paso 3: [1, 2, 3]\n",
    "\n",
    "Paso 4: [1, 2, 3, 4, 5]\n",
    "\n",
    "Paso 5: [3, 1, 2, 3, 4, 5]"
   ]
  },
  {
   "cell_type": "code",
   "execution_count": 55,
   "id": "41c1aae3",
   "metadata": {},
   "outputs": [
    {
     "name": "stdout",
     "output_type": "stream",
     "text": [
      "Paso 1: [1]\n",
      "Paso 2: [1, 2]\n",
      "Paso 3: [1, 2, 3]\n",
      "Paso 4: [1, 2, 3, 4, 5]\n",
      "Paso 5: [3, 1, 2, 3, 4, 5]\n"
     ]
    }
   ],
   "source": [
    "# Lista vacía\n",
    "lista = []\n",
    "\n",
    "# Usa append para meter el valor 1. Ejemplo ya hecho\n",
    "lista.append(1)\n",
    "print(\"Paso 1:\", lista)\n",
    "\n",
    "# Usa append para meter el valor 2\n",
    "lista.append(2)\n",
    "print(f\"Paso 2: {lista}\")\n",
    "# Usa append para meter el valor 3\n",
    "lista.append(3)\n",
    "print(f\"Paso 3: {lista}\")\n",
    "# Usa extend para meter la lista [4, 5]\n",
    "lista.extend([4 , 5])\n",
    "print(f\"Paso 4: {lista}\")\n",
    "# Inserta en la posición 0 el valor 3\n",
    "lista.insert(0, 3)\n",
    "print(f\"Paso 5: {lista}\")"
   ]
  },
  {
   "cell_type": "markdown",
   "id": "855781b6",
   "metadata": {},
   "source": [
    "# Otros métodos de listas\n",
    "\n",
    "La salida debe quedar así:\n",
    "\n",
    "Paso 1: 0\n",
    "\n",
    "Paso 2: 2\n",
    "\n",
    "Paso 3: [5, 4, 3, 2, 1, 3]\n",
    "\n",
    "Pas 4: [1, 2, 3, 3, 4, 5]\n",
    "\n",
    "Pas 5: [5, 4, 3, 3, 2, 1]"
   ]
  },
  {
   "cell_type": "code",
   "execution_count": 44,
   "id": "b8166dd6",
   "metadata": {},
   "outputs": [
    {
     "name": "stdout",
     "output_type": "stream",
     "text": [
      "Paso 1: 2\n",
      "Paso 2: 2\n",
      "Paso 3: [5, 4, 3, 2, 1, 3]\n",
      "Paso 4: [3, 1, 2, 3, 4, 5]\n",
      "Paso 5: [1, 2, 3, 3, 4, 5]\n",
      "Paso 6: [5, 4, 3, 3, 2, 1]\n"
     ]
    }
   ],
   "source": [
    "# Encuentra y muestra el índice del valor 3\n",
    "print(f\"Paso 1: {lista.index(3)}\")\n",
    "\n",
    "# Cuenta y muestra cuántas veces aparece el valor 3\n",
    "print(f\"Paso 2: {lista.count(3)}\")\n",
    "\n",
    "# Haz una copia de la lista en lista_copia\n",
    "lista_copia = lista.copy()\n",
    "print(f\"Paso 3: {lista_copia}\")\n",
    "\n",
    "# Invierte los valores de lista_copia\n",
    "lista_copia.reverse()\n",
    "print(f\"Paso 4: {lista_copia}\")\n",
    "\n",
    "# Ordena los valores de lista_copia de menor a mayor\n",
    "lista_copia.sort()\n",
    "print(f\"Paso 5: {lista_copia}\")\n",
    "\n",
    "# Ordena los valores de lsita_copia de mayor a menor\n",
    "lista_copia.sort(reverse=True)\n",
    "print(f\"Paso 6: {lista_copia}\")"
   ]
  },
  {
   "cell_type": "markdown",
   "id": "a14a6673",
   "metadata": {},
   "source": [
    "# Borrado de elementos en una lista\n",
    "\n",
    "La salida debe ser:\n",
    "\n",
    "Paso 1: [1, 2, 4]\n",
    "\n",
    "Paso 2: Elemento borrado: 4. Lista: [1, 2]\n",
    "\n",
    "Paso 3: []"
   ]
  },
  {
   "cell_type": "code",
   "execution_count": 56,
   "id": "063f9cd3",
   "metadata": {},
   "outputs": [
    {
     "name": "stdout",
     "output_type": "stream",
     "text": [
      "[1, 2, 3, 4, 5]\n",
      "5\n",
      "[1, 2, 3, 4]\n",
      "[]\n"
     ]
    }
   ],
   "source": [
    "# a la lista anterior, borra el primer 3 de la lista\n",
    "lista.remove(3)\n",
    "print(lista)\n",
    "\n",
    "# borra el último elemento, imprime el elemento y la lista\n",
    "print(lista.pop(-1))\n",
    "print(lista)\n",
    "# Borra la lista\n",
    "lista.clear()\n",
    "print(lista)"
   ]
  },
  {
   "cell_type": "markdown",
   "id": "7c01f7a6",
   "metadata": {},
   "source": [
    "# Operadores in / not in\n",
    "\n",
    "La salida debe ser (siendo x el número introducido):\n",
    "\n",
    "¿Está en la lista el número x? False\n"
   ]
  },
  {
   "cell_type": "code",
   "execution_count": 62,
   "id": "7a97f397",
   "metadata": {},
   "outputs": [
    {
     "name": "stdout",
     "output_type": "stream",
     "text": [
      "True\n"
     ]
    }
   ],
   "source": [
    "mi_lista = [1, 2, 3, 4]\n",
    "\n",
    "# Pide un número entero al usuario\n",
    "numero = int(input(\"Introduce un número: \"))\n",
    "\n",
    "# Comprueba si ese número está en lista, impriendo True o False\n",
    "print(numero in mi_lista)"
   ]
  },
  {
   "cell_type": "markdown",
   "id": "fc8134d4",
   "metadata": {},
   "source": [
    "# Funciones predefinidas en Python para listas\n",
    "\n",
    "La salida correcta es:\n",
    "\n",
    "Paso 1: 4\n",
    "\n",
    "Paso 2: 0\n",
    "\n",
    "Paso 3: 7\n",
    "\n",
    "Paso 4: [0, 1, 2, 4]\n",
    "\n",
    "Lista original: [4, 0, 2, 1]"
   ]
  },
  {
   "cell_type": "code",
   "execution_count": 65,
   "id": "a645b848",
   "metadata": {},
   "outputs": [
    {
     "name": "stdout",
     "output_type": "stream",
     "text": [
      "4\n",
      "0\n",
      "7\n",
      "[0, 1, 2, 4]\n",
      "[4, 0, 2, 1]\n"
     ]
    }
   ],
   "source": [
    "mi_lista = [4, 0, 2, 1]\n",
    "\n",
    "# Muestra el valor máximo\n",
    "print(max(mi_lista))\n",
    "\n",
    "# Muestra el valor mínimo\n",
    "print(min(mi_lista))\n",
    "\n",
    "# Muestra la suma de valores\n",
    "print(sum(mi_lista))\n",
    "\n",
    "# Obtén una copia ordenada de la lista\n",
    "lista_ordenada = mi_lista.copy()\n",
    "lista_ordenada.sort()\n",
    "print(lista_ordenada)\n",
    "# Muestra la lista original para verificar que se ha ordenado una copia\n",
    "print(mi_lista)"
   ]
  },
  {
   "cell_type": "markdown",
   "id": "8e71115c",
   "metadata": {},
   "source": [
    "# Funciones any y all\n",
    "\n",
    "Asignando una lista a la variable lista que está en el código debes conseguir ciertos resultados que se indican en los comentarios.\n",
    "\n",
    "La salida debe ser:\n",
    "\n",
    "Paso 1: True\n",
    "\n",
    "Paso 2: False\n",
    "\n",
    "Paso 3: True\n",
    "\n",
    "Paso 4: False"
   ]
  },
  {
   "cell_type": "code",
   "execution_count": 3,
   "id": "1fa871e6",
   "metadata": {},
   "outputs": [
    {
     "name": "stdout",
     "output_type": "stream",
     "text": [
      "Paso 1: True\n",
      "Paso 2: False\n",
      "Paso 3: True\n",
      "Paso 4: False\n"
     ]
    }
   ],
   "source": [
    "# Paso 1: Haz una lista con 2 números, donde al aplicar any el resultado sea True. EJEMPLO HECHO\n",
    "lista = [1, 0]\n",
    "print(\"Paso 1:\", any(lista))\n",
    "\n",
    "\n",
    "# Paso 2: Igual que el anterior, pero con resultado false\n",
    "lista = []\n",
    "print(\"Paso 2:\", any(lista))\n",
    "\n",
    "\n",
    "# Paso 3: Haz una lista con 2 números, donde al aplicar all el resultado sea True\n",
    "lista = [2,2]\n",
    "print(\"Paso 3:\", all(lista))\n",
    "\n",
    "\n",
    "# Paso 4: Igual que el anterior, pero con resultado false\n",
    "lista = [0, -1]\n",
    "print(\"Paso 4:\", all(lista))"
   ]
  },
  {
   "cell_type": "markdown",
   "id": "c41a7b42",
   "metadata": {},
   "source": [
    "# Funciones any y all con booleanos\n",
    "\n",
    "Similar al anterior pero con valores booleanos True/False"
   ]
  },
  {
   "cell_type": "code",
   "execution_count": 7,
   "id": "604a09a6",
   "metadata": {},
   "outputs": [
    {
     "name": "stdout",
     "output_type": "stream",
     "text": [
      "Paso 1: True\n",
      "Paso 2: False\n",
      "Paso 3: True\n",
      "Paso 4: False\n"
     ]
    }
   ],
   "source": [
    "# Haz una lista con 2 booleanos, donde al aplicar any el resultado sea True\n",
    "lista = [True, False]\n",
    "print(\"Paso 1:\", any(lista))\n",
    "\n",
    "# Igual que el anterior, pero con resultado false\n",
    "lista = [False, False]\n",
    "print(\"Paso 2:\", any(lista))\n",
    "\n",
    "\n",
    "# Haz una lista con 2 bool, donde al aplicar all el resultado sea True\n",
    "lista = [True, True]\n",
    "print(\"Paso 3:\", all(lista))\n",
    "\n",
    "\n",
    "# Igual que el anterior, pero con resultado false\n",
    "lista = [False, True]\n",
    "print(\"Paso 4:\", all(lista))"
   ]
  },
  {
   "cell_type": "markdown",
   "id": "cc4f182a",
   "metadata": {},
   "source": [
    "# Slicing de listas\n",
    "\n",
    "El resultado es: \n",
    "\n",
    "Paso 1: [2, 3, 4, 5, 6, 7, 8]\n",
    "\n",
    "Paso 2: [3, 4, 5, 6, 7, 8, 9, 10]\n",
    "\n",
    "Paso 3: [1, 3, 5, 7, 9]\n",
    "\n",
    "Paso 4: [2, 4, 6, 8, 10]\n"
   ]
  },
  {
   "cell_type": "code",
   "execution_count": 71,
   "id": "643b8836",
   "metadata": {},
   "outputs": [
    {
     "name": "stdout",
     "output_type": "stream",
     "text": [
      "[2, 3, 4, 5, 6, 7, 8]\n",
      "[3, 4, 5, 6, 7, 8, 9, 10]\n",
      "[1, 3, 5, 7, 9]\n",
      "[2, 4, 6, 8, 10]\n"
     ]
    }
   ],
   "source": [
    "# Tenemos una lista ordenada de números del 1 al 10\n",
    "lista = [1, 2, 3, 4, 5, 6, 7, 8, 9, 10]\n",
    "\n",
    "# Muestra los números del 2 al 8\n",
    "print(lista[1:8])\n",
    "\n",
    "# Muestra los números del 3 hasta el final\n",
    "print(lista[2:10])\n",
    "\n",
    "# Muestra los números impares\n",
    "print(lista[0:10:2])\n",
    "\n",
    "# Muestra los números pares\n",
    "print(lista[1:10:2])"
   ]
  },
  {
   "cell_type": "markdown",
   "id": "691d43c8",
   "metadata": {},
   "source": [
    "---\n",
    "# Ejercicio 1\n",
    "\n",
    "+ Tenemos una lista con 4 elementos lista=[1, 2, 3, 4] \n",
    "+ Tenemos lista vacía, lista2=[]\n",
    "+ Mediante un for recorremos la lista con elementos\n",
    "+ En cada paso del for, pedimos al usuario un número entero y lo introducimos en lista2\n",
    "+ Al finalizar el for, obtenemos la suma total de los números de ambas listas y lo mostramos."
   ]
  },
  {
   "cell_type": "code",
   "execution_count": 85,
   "id": "b690467e",
   "metadata": {},
   "outputs": [
    {
     "name": "stdout",
     "output_type": "stream",
     "text": [
      "1 2 3 4 14\n"
     ]
    }
   ],
   "source": [
    "lista = [1, 2, 3, 4]\n",
    "lista2 = []\n",
    "for i in lista:\n",
    "    print(i, end=\" \")\n",
    "    n = int(input(\"Introduce un número: \"))\n",
    "    lista2.append(n)\n",
    "print(sum(lista) + sum(lista2) )"
   ]
  },
  {
   "cell_type": "markdown",
   "id": "d5b0c597",
   "metadata": {},
   "source": [
    "# Ejercicio 2\n",
    "\n",
    "+ Tenemos una lista con 4 elementos lista=[1, 2, 3, 4]\n",
    "+ Mediante un for recorremos la lista\n",
    "+ En cada paso del for, pedimos al usuario un número entero y modificamos la posición de la lista según el paso del for. Es decir, en número introducido en el paso 1 modifica el índice 0, el número introducido en el paso 2 modifica el índice 1 y así sucesivamente.\n",
    "+ Al acabar el for muestra la lista modificada.\n",
    "\n",
    "**Consejo**: Utiliza una variablle llamada _indice_ para almacenar qué posición de la lista modificas en casa paso del for."
   ]
  },
  {
   "cell_type": "code",
   "execution_count": 92,
   "id": "3cefc0b4",
   "metadata": {},
   "outputs": [
    {
     "name": "stdout",
     "output_type": "stream",
     "text": [
      "[1, 2, 3, 4]\n",
      "[1, 2, 3, 4]\n",
      "[1, 1, 3, 4]\n",
      "[1, 1, 1, 4]\n",
      "[1, 1, 1, 1]\n"
     ]
    }
   ],
   "source": [
    "lista = [1, 2, 3, 4]\n",
    "indice = 0\n",
    "for i in range(len(lista)):\n",
    "    print(lista)\n",
    "    n = int(input(\"Introduce un número:\"))\n",
    "    lista[indice] = n\n",
    "    indice += 1\n",
    "print(lista)"
   ]
  },
  {
   "cell_type": "markdown",
   "id": "beb0eb55",
   "metadata": {},
   "source": [
    "# Ejercicio 3\n",
    "\n",
    "Vamos a calcular la suma de los números pares y la cantidad de números pares que hay presentes en una lista.\n",
    "\n",
    "+ Tenemos una lista con números lista=[3, 4, 5, 7, 1, 2, 6]\n",
    "+ Mediante un for recorremos la lista\n",
    "+ En cada paso del for debemos comprobar con un if si el número es par. Si es par, se suma a una variable donde se acumula la suma. Además, debemos incrementar en 1 otra variable donde contamos cuántos pares hay en la lista.\n",
    "+ Al finalizar el for mostrar todo el resultado\n",
    "\n",
    "**Consejo**: Un número es par si al dividir por 2 el resto es 0 -> operador módulo %"
   ]
  },
  {
   "cell_type": "code",
   "execution_count": 93,
   "id": "cf66c848",
   "metadata": {},
   "outputs": [
    {
     "name": "stdout",
     "output_type": "stream",
     "text": [
      "La suma de todos los pares es de 12 y la cantidad de pares que hay es de 3\n"
     ]
    }
   ],
   "source": [
    "lista = [3, 4, 5, 7, 1, 2, 6]\n",
    "suma_total = 0\n",
    "pares = 0\n",
    "for i in lista:\n",
    "    if i % 2 == 0:\n",
    "        suma_total += i\n",
    "        pares += 1\n",
    "print(f\"La suma de todos los pares es de {suma_total} y la cantidad de pares que hay es de {pares}\")"
   ]
  }
 ],
 "metadata": {
  "kernelspec": {
   "display_name": "entorno_tareas",
   "language": "python",
   "name": "python3"
  },
  "language_info": {
   "codemirror_mode": {
    "name": "ipython",
    "version": 3
   },
   "file_extension": ".py",
   "mimetype": "text/x-python",
   "name": "python",
   "nbconvert_exporter": "python",
   "pygments_lexer": "ipython3",
   "version": "3.12.3"
  }
 },
 "nbformat": 4,
 "nbformat_minor": 5
}
