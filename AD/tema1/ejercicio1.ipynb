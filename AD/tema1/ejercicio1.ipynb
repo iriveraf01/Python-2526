{
 "cells": [
  {
   "cell_type": "markdown",
   "metadata": {},
   "source": [
    "# Ejercicio 1: Variables y Operadores Aritméticos\n",
    "\n",
    "Declara dos variables a y b con valores enteros.\n",
    "Calcula la suma, resta, multiplicación, división, el resto(módulo), división entera, potencia\n",
    "Muestra los resultados en la consola.\n",
    "\n",
    "Por último, guarda en una variable \"precio\" el valor 25.99 y en otra variable \"IVA\" el valor 10. Calcula el precio final sumándole el porcentaje de IVA correspondiente al precio y muestra el mensaje \"Precio incial=  , IVA= , Precio final = \"."
   ]
  },
  {
   "cell_type": "code",
   "execution_count": null,
   "metadata": {},
   "outputs": [
    {
     "name": "stdout",
     "output_type": "stream",
     "text": [
      "Suma: 15\n",
      "Resta: 5\n",
      "Multiplicación: 50\n",
      "División: 2.0\n",
      "Módulo: 0\n",
      "Precio inicial: 25.99\n",
      "IVA: 10%\n",
      "Precio final con IVA: 28.589\n"
     ]
    }
   ],
   "source": [
    "a = 10\n",
    "b = 5\n",
    "\n",
    "suma = a + b\n",
    "resta = a - b\n",
    "mutiplicacion = a * b\n",
    "division = a / b\n",
    "modulo = a % b\n",
    "\n",
    "print(f\"Suma: {suma}\")\n",
    "print(f\"Resta: {resta}\")\n",
    "print(f\"Multiplicación: {mutiplicacion}\")\n",
    "print(f\"División: {division}\")\n",
    "print(f\"Módulo: {modulo}\")\n",
    "\n",
    "precio = 25.99\n",
    "iva = 10\n",
    "\n",
    "precio_final = precio + (precio * iva / 100)\n",
    "print(f\"Precio inicial: {precio}\")\n",
    "print(f\"IVA: {iva}%\")\n",
    "print(f\"Precio final con IVA: {precio_final}\")"
   ]
  },
  {
   "cell_type": "markdown",
   "metadata": {},
   "source": [
    "# Ejercicio 2: Operadores de Asignación\n",
    "\n",
    "+ Declara una variable x con un valor entero 10.\n",
    "+ Usa operadores de asignación y aritmética para modificar el valor de x sucesivamente según la lista. \n",
    "    + += 5\n",
    "    + -= 3\n",
    "    + *= 2\n",
    "    + /= 4\n",
    "    + %= 3\n",
    "\n",
    "Muestra el valor de x y el tipo después de cada operación, en formato -> \"x += 5 es [el valor que sea], tipo [el que sea]"
   ]
  },
  {
   "cell_type": "code",
   "execution_count": 4,
   "metadata": {},
   "outputs": [
    {
     "name": "stdout",
     "output_type": "stream",
     "text": [
      "Valor de x después de x += 5: 15 Su tipo es: <class 'int'>\n",
      "Valor de x después de x -= 3: 12 Su tipo es: <class 'int'>\n",
      "Valor de x después de x *= 2: 24 Su tipo es: <class 'int'>\n",
      "Valor de x después de x /= 4: 6.0 Su tipo es: <class 'float'>\n",
      "Valor de x después de x %= 3: 0.0 Su tipo es: <class 'float'>\n"
     ]
    }
   ],
   "source": [
    "x = 10\n",
    "x += 5\n",
    "print(f\"Valor de x después de x += 5: {x} Su tipo es: {type(x)}\")\n",
    "x -= 3\n",
    "print(f\"Valor de x después de x -= 3: {x} Su tipo es: {type(x)}\")\n",
    "x *= 2\n",
    "print(f\"Valor de x después de x *= 2: {x} Su tipo es: {type(x)}\")\n",
    "x /= 4\n",
    "print(f\"Valor de x después de x /= 4: {x} Su tipo es: {type(x)}\")\n",
    "x %= 3\n",
    "print(f\"Valor de x después de x %= 3: {x} Su tipo es: {type(x)}\")"
   ]
  },
  {
   "cell_type": "markdown",
   "metadata": {},
   "source": [
    "# Ejercicio 3: Operadores de Comparación\n",
    "Declara dos variables a y b con valores enteros diferentes.\n",
    "Usa operadores de comparación para comparar a y b (==, !=, >, <, >=, <=).\n",
    "Muestra los resultados de las comparaciones en la consola."
   ]
  },
  {
   "cell_type": "code",
   "execution_count": 11,
   "metadata": {},
   "outputs": [
    {
     "name": "stdout",
     "output_type": "stream",
     "text": [
      "a == b: False\n",
      "a != b: True\n",
      "a > b: False\n",
      "a < b: True\n",
      "a >= b: False\n",
      "a <= b: True\n"
     ]
    }
   ],
   "source": [
    "a = 3\n",
    "b = 5\n",
    "\n",
    "print(f\"a == b: {bool(a == b)}\")\n",
    "print(f\"a != b: {bool(a != b)}\")\n",
    "print(f\"a > b: {bool(a > b)}\")\n",
    "print(f\"a < b: {bool(a < b)}\")\n",
    "print(f\"a >= b: {bool(a >= b)}\")\n",
    "print(f\"a <= b: {bool(a <= b)}\")\n",
    "\n"
   ]
  },
  {
   "cell_type": "markdown",
   "metadata": {},
   "source": [
    "# Ejercicio 4: Operadores Lógicos\n",
    "\n",
    "Declara dos variables booleanas p (True) y q (False).\n",
    "Usa operadores lógicos (and, or, not) para combinar p y q.\n",
    "Muestra los resultados de las combinaciones en la consola."
   ]
  },
  {
   "cell_type": "code",
   "execution_count": 12,
   "metadata": {},
   "outputs": [
    {
     "name": "stdout",
     "output_type": "stream",
     "text": [
      "p and q: False\n",
      "p or q: True\n",
      "not p: False\n"
     ]
    }
   ],
   "source": [
    "p = True\n",
    "q = False\n",
    "print(f\"p and q: {p and q}\")\n",
    "print(f\"p or q: {p or q}\")\n",
    "print(f\"not p: {not p}\")"
   ]
  },
  {
   "cell_type": "markdown",
   "metadata": {},
   "source": [
    "# Ejercicio 5: Operadores is y in\n",
    "\n",
    "Declara una variable a con un valor entero y otra variable b con el mismo valor.\n",
    "Usa el operador is para verificar si a y b son el mismo objeto. Comprueba lo mismo obteniendo sus id y un operador de comparación.\n",
    "\n",
    "Declara un string con una cadena.\n",
    "Usa el operador in para verificar si una subcadena está dentro o no de la lista.\n",
    "Muestra los resultados en la consola con un mensaje. Por ejemplo \"la cadena 'x' no está en la cadena 'y'\""
   ]
  },
  {
   "cell_type": "code",
   "execution_count": 15,
   "metadata": {},
   "outputs": [
    {
     "name": "stdout",
     "output_type": "stream",
     "text": [
      "a is b: True\n",
      "o in lista: True\n",
      "e in lista: False\n"
     ]
    }
   ],
   "source": [
    "a = 10\n",
    "b = 10\n",
    "print(f\"a is b: {a is b}\")\n",
    "\n",
    "lista = \"adios\"\n",
    "\n",
    "print(f\"o in lista: {\"o\" in lista}\")\n",
    "print(f\"e in lista: {\"e\" in lista}\")"
   ]
  },
  {
   "cell_type": "markdown",
   "metadata": {},
   "source": [
    "# Ejercicio 6: Operaciones Binarias\n",
    "\n",
    "Realiza las siguientes operaciones, mostrando en cada paso los resultados en binario:\n",
    "\n",
    "+ Declara dos variables a y b con valores enteros.\n",
    "+ Realiza operaciones binarias (AND, OR, XOR) entre a y b.\n",
    "+ Realiza desplazamientos a la izquierda y a la derecha en a de 2 posiciones.\n"
   ]
  },
  {
   "cell_type": "code",
   "execution_count": 22,
   "metadata": {},
   "outputs": [
    {
     "name": "stdout",
     "output_type": "stream",
     "text": [
      "a & b: 2\n",
      "a | b: 3\n",
      "a ^ b: 1\n",
      "a << b: 16\n",
      "a >> b: 0\n"
     ]
    }
   ],
   "source": [
    "a = 2\n",
    "b = 3\n",
    "\n",
    "print(f\"a & b: {a & b}\")\n",
    "print(f\"a | b: {a | b}\")\n",
    "print(f\"a ^ b: {a ^ b}\")\n",
    "print(f\"a << b: {a << b}\")\n",
    "print(f\"a >> b: {a >> b}\")"
   ]
  },
  {
   "cell_type": "markdown",
   "metadata": {},
   "source": [
    "# Desafío Binario\n",
    "\n",
    "+ Declara una variable a con el valor '10'\n",
    "+ Muestra el valor binario por pantalla\n",
    "+ Haciendo primero un and y luego al resultado anterior un or, obtener  0b1010.\n",
    "+ Muestra el resultado en la consola."
   ]
  },
  {
   "cell_type": "code",
   "execution_count": null,
   "metadata": {},
   "outputs": [
    {
     "name": "stdout",
     "output_type": "stream",
     "text": [
      "a: 0b1010\n"
     ]
    }
   ],
   "source": [
    "a  = 10\n",
    "print(f\"a: {bin(a)}\")\n",
    "\n"
   ]
  }
 ],
 "metadata": {
  "kernelspec": {
   "display_name": "entorno_tareas",
   "language": "python",
   "name": "python3"
  },
  "language_info": {
   "codemirror_mode": {
    "name": "ipython",
    "version": 3
   },
   "file_extension": ".py",
   "mimetype": "text/x-python",
   "name": "python",
   "nbconvert_exporter": "python",
   "pygments_lexer": "ipython3",
   "version": "3.12.3"
  }
 },
 "nbformat": 4,
 "nbformat_minor": 2
}
