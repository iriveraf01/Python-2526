{
 "cells": [
  {
   "cell_type": "markdown",
   "id": "7e58ceb8",
   "metadata": {},
   "source": [
    "# Completa cada celda de código según el comentario.\n",
    "\n",
    "No es necesario realizar funciones.\n",
    "\n",
    "Realiza cada operación teniendo en cuenta todo el potencial de numpy y sus métodos."
   ]
  },
  {
   "cell_type": "code",
   "execution_count": 2,
   "id": "dbf2c034",
   "metadata": {},
   "outputs": [],
   "source": [
    "import numpy as np\n",
    "array1 = np.array([2, 5, 4, 2, 49, 34, 59, 21, 45, 6, 105])"
   ]
  },
  {
   "cell_type": "code",
   "execution_count": null,
   "id": "109ad5d4",
   "metadata": {},
   "outputs": [],
   "source": [
    "# Muestra los atributos de array1 (dimensiones, tipo, tamaño, tamaño por dimensión o shape)"
   ]
  },
  {
   "cell_type": "code",
   "execution_count": null,
   "id": "5963ee6e",
   "metadata": {},
   "outputs": [],
   "source": [
    "# Crea un array2 del mismo tamaño que array1 con todos a 1"
   ]
  },
  {
   "cell_type": "code",
   "execution_count": null,
   "id": "f992b8a7",
   "metadata": {},
   "outputs": [],
   "source": [
    "# Suma ambos arrays de forma vectorizada y guarda el resultado en array3"
   ]
  },
  {
   "cell_type": "code",
   "execution_count": null,
   "id": "472ff9a1",
   "metadata": {},
   "outputs": [],
   "source": [
    "# Genera un array booleano (array_bool) que indique que posiciones de array1 son mayores a 30. \n",
    "\n",
    "\n",
    "\n",
    "\n",
    "# Imprime array_bool para comprobar \n"
   ]
  },
  {
   "cell_type": "code",
   "execution_count": null,
   "id": "c9a400e7",
   "metadata": {},
   "outputs": [],
   "source": [
    "# A partir de array_bool, muestra por pantalla los valores que cumplen la condición (>40)\n"
   ]
  },
  {
   "cell_type": "code",
   "execution_count": null,
   "id": "886ccff0",
   "metadata": {},
   "outputs": [],
   "source": [
    "# Comprueba (imprime 1 True o False) si existe algún valor múltiplo de 7 en array1\n"
   ]
  },
  {
   "cell_type": "code",
   "execution_count": null,
   "id": "241514af",
   "metadata": {},
   "outputs": [],
   "source": [
    "# Devuelve un array con todos los números menores a 40 o múltiplo de 7\n"
   ]
  },
  {
   "cell_type": "code",
   "execution_count": null,
   "id": "51fc8afc",
   "metadata": {},
   "outputs": [],
   "source": [
    "# Devuelve un array con todos los números menores a 40 que sean múltiplo de 7"
   ]
  },
  {
   "cell_type": "code",
   "execution_count": null,
   "id": "ce0a2866",
   "metadata": {},
   "outputs": [],
   "source": [
    "# Multiplica y muestra todos los valores de array1"
   ]
  },
  {
   "cell_type": "markdown",
   "id": "8a54c18b",
   "metadata": {},
   "source": [
    "---\n",
    "# Notas y alumnos\n",
    "\n",
    "La celda inferior contiene los datos **\"notas\"** y **\"alumnos\"** para realizar las siguientes."
   ]
  },
  {
   "cell_type": "code",
   "execution_count": 3,
   "id": "3042341b",
   "metadata": {},
   "outputs": [
    {
     "name": "stdout",
     "output_type": "stream",
     "text": [
      "[8 5 4 6 8 7 9 9 3 5 7 7 3 4 8]\n",
      "['Pedro' 'Juan' 'Maria' 'Alfonso' 'Mario' 'Juana' 'Antonio' 'Marco'\n",
      " 'Julia' 'Noelia' 'Alvaro' 'Natalia' 'Jose' 'Carlos' 'Diego']\n"
     ]
    }
   ],
   "source": [
    "# Array notas\n",
    "notas = np.array([8, 5, 4, 6, 8, 7, 9, 9, 3, 5, 7, 7, 3, 4, 8])\n",
    "print(notas)\n",
    "\n",
    "# Array alumnos\n",
    "alumnos = np.array([\"Pedro\", \"Juan\", \"Maria\", \"Alfonso\", \"Mario\", \"Juana\", \"Antonio\", \"Marco\", \n",
    "                    \"Julia\", \"Noelia\", \"Alvaro\", \"Natalia\", \"Jose\", \"Carlos\", \"Diego\"])\n",
    "print(alumnos)"
   ]
  },
  {
   "cell_type": "code",
   "execution_count": null,
   "id": "6a01dfc4",
   "metadata": {},
   "outputs": [],
   "source": [
    "# Muestra el valor medio y mediano de notas"
   ]
  },
  {
   "cell_type": "code",
   "execution_count": null,
   "id": "39c53496",
   "metadata": {},
   "outputs": [],
   "source": [
    "# ¿Cuál es la desviación estándar y la varianza del conjunto de datos?"
   ]
  },
  {
   "cell_type": "code",
   "execution_count": null,
   "id": "59e4db37",
   "metadata": {},
   "outputs": [],
   "source": [
    "# Calcula la desviación estándar a través de la varianza"
   ]
  },
  {
   "cell_type": "code",
   "execution_count": null,
   "id": "0c99fdca",
   "metadata": {},
   "outputs": [],
   "source": [
    "# Comprueba si ha suspendido algún alumno"
   ]
  },
  {
   "cell_type": "code",
   "execution_count": null,
   "id": "5666d915",
   "metadata": {},
   "outputs": [],
   "source": [
    "# Muestra cuánntos alumnos han aprobado y cuantos han suspendido"
   ]
  },
  {
   "cell_type": "markdown",
   "id": "cee40fbd",
   "metadata": {},
   "source": [
    "# Percentil\n",
    "\n",
    "https://es.wikipedia.org/wiki/Percentil\n",
    "\n",
    "En el enlace de wikipedia se explica en qué consiste la medida percentil. Existen en numpy unos métodos para calcularlo."
   ]
  },
  {
   "cell_type": "code",
   "execution_count": null,
   "id": "6a0e1cec",
   "metadata": {},
   "outputs": [],
   "source": [
    "# ¿Qué valor se encuentra en el percentil 25? ¿y en el 50? ¿con qué valor coincide este último?\n",
    "# Busca numpy.percentile en la documentación oficial"
   ]
  },
  {
   "cell_type": "code",
   "execution_count": null,
   "id": "179b50fc",
   "metadata": {},
   "outputs": [],
   "source": [
    "# Vamos a filtrar a los alumnos\n",
    "# Queremos solamente un 30% de los alumnos, los que tienen mejores notas. Calcula el valor del percentil correspondiente\n",
    "\n",
    "\n",
    "\n",
    "\n",
    "# Muestra los nombres del 30% de alumnos con mejor nota"
   ]
  },
  {
   "cell_type": "code",
   "execution_count": null,
   "id": "48bff742",
   "metadata": {},
   "outputs": [],
   "source": [
    "# Comprueba el resultado anterior mostrando las notas de cada alumno"
   ]
  }
 ],
 "metadata": {
  "kernelspec": {
   "display_name": "Python 3 (ipykernel)",
   "language": "python",
   "name": "python3"
  },
  "language_info": {
   "codemirror_mode": {
    "name": "ipython",
    "version": 3
   },
   "file_extension": ".py",
   "mimetype": "text/x-python",
   "name": "python",
   "nbconvert_exporter": "python",
   "pygments_lexer": "ipython3",
   "version": "3.11.5"
  }
 },
 "nbformat": 4,
 "nbformat_minor": 5
}
