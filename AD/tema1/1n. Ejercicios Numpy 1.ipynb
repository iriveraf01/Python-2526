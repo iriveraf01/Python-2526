{
 "cells": [
  {
   "cell_type": "markdown",
   "id": "8f0390a3",
   "metadata": {},
   "source": [
    "# Ejercicio 1\n",
    "\n",
    "Obtén los atributos del ndarray de numpy, muéstralos por pantalla y muestra también su contenido elemento a elemento mediante un for"
   ]
  },
  {
   "cell_type": "code",
   "execution_count": 1,
   "id": "a7ad8c5c",
   "metadata": {},
   "outputs": [
    {
     "name": "stdout",
     "output_type": "stream",
     "text": [
      "1\n",
      "4\n",
      "(4,)\n",
      "float64\n"
     ]
    }
   ],
   "source": [
    "import numpy as np\n",
    "\n",
    "# Lista para crear el array a partir de ella\n",
    "lista = [4.5, 7.36, 7., 0.56]\n",
    "\n",
    "# Creamos el array mediante la estructura lista\n",
    "mi_array = np.array(lista)\n",
    "\n",
    "#Sigue a partir de aquí\n",
    "print(mi_array.ndim)\n",
    "print(mi_array.size)\n",
    "print(mi_array.shape)\n",
    "print(mi_array.dtype)"
   ]
  },
  {
   "cell_type": "markdown",
   "id": "a03a9d67",
   "metadata": {},
   "source": [
    "# Ejercicio 2\n",
    "\n",
    "1. Crear una función llamada “inicializar_array” que reciba por parámetro un ndarray y retorne el array modificado con valores introducidos por teclado por el usuario usando un for.\n",
    "\n",
    "2. Una vez tenéis la función, crear un array del tamaño que sea e invocar a la función anterior, guardando el return en una nueva variable.\n",
    "\n",
    "3. Comprobar si ambos arrays tienen los mismos valores y son el mismo objeto."
   ]
  },
  {
   "cell_type": "code",
   "execution_count": 8,
   "id": "b6c567c1",
   "metadata": {},
   "outputs": [
    {
     "name": "stdout",
     "output_type": "stream",
     "text": [
      "[2 2 2 2 2]\n"
     ]
    }
   ],
   "source": [
    "def inicializar_array(a):\n",
    "    return np.array(a)\n",
    "\n",
    "numeros = []\n",
    "for i in range(5):\n",
    "    numero = int(input(\"Introduce numeros: \"))\n",
    "    numeros.append(numero)\n",
    "print(inicializar_array(numeros))"
   ]
  },
  {
   "cell_type": "markdown",
   "id": "51bc920d",
   "metadata": {},
   "source": [
    "# Ejercicio 3\n",
    "\n",
    "Crear 3 funciones, “media”, “máximo” y “mínimo”, que reciban un ndarray de valores numéricos y devuelva la media aritmética, el valor máximo y el valor mínimo respectivamente. Realizar el cálculo manualmente recorriendo el array con un for en lugar de usar las funciones predefinidas."
   ]
  },
  {
   "cell_type": "code",
   "execution_count": 12,
   "id": "667e0e30",
   "metadata": {},
   "outputs": [
    {
     "name": "stdout",
     "output_type": "stream",
     "text": [
      "2.6666666666666665\n",
      "4\n",
      "1\n"
     ]
    }
   ],
   "source": [
    "array = [1, 2, 3, 3, 3, 4]\n",
    "def media(array):\n",
    "    suma = 0\n",
    "    for i in array:\n",
    "        suma += i\n",
    "    media = suma / len(array)\n",
    "    return media\n",
    "print(media(array))\n",
    "\n",
    "def maximo(array):\n",
    "    maximo = 0\n",
    "    for i in array:\n",
    "        if maximo < i:\n",
    "            maximo = i\n",
    "    return maximo\n",
    "print(maximo(array))\n",
    "\n",
    "def minimo(array):\n",
    "    minimo = maximo(array)\n",
    "    for i in array:\n",
    "        if minimo > i:\n",
    "            minimo = i\n",
    "    return minimo\n",
    "print(minimo(array))"
   ]
  },
  {
   "cell_type": "markdown",
   "id": "0dfb3c79",
   "metadata": {},
   "source": [
    "# Ejercicio 4\n",
    "\n",
    "Crear la función “encontrar” (usando for) que busque un valor dentro de un ndarray.\n",
    "\n",
    "1. Parámetros: recibe dos parámetros, un array numérico y un valor. \n",
    "2. Retorno: \n",
    "    * Si valor se encuentra en el array, devolver el índice (primera aparición)\n",
    "    * Si el valor no se encuentra en el array, devolver None.\n",
    "3. Invocar a la función con cualquier array y valor para testear su funcionamiento en ambos casos. "
   ]
  },
  {
   "cell_type": "code",
   "execution_count": 21,
   "id": "b5b63b70",
   "metadata": {},
   "outputs": [
    {
     "name": "stdout",
     "output_type": "stream",
     "text": [
      "1\n"
     ]
    }
   ],
   "source": [
    "array = [1, 2, 3, 3, 3, 4]\n",
    "def encontrar(array, numero):\n",
    "    for indice, valor in enumerate(array):\n",
    "        if valor == numero:\n",
    "            return indice\n",
    "    return None\n",
    "print(encontrar(array, 2))"
   ]
  }
 ],
 "metadata": {
  "kernelspec": {
   "display_name": "entorno_tareas",
   "language": "python",
   "name": "python3"
  },
  "language_info": {
   "codemirror_mode": {
    "name": "ipython",
    "version": 3
   },
   "file_extension": ".py",
   "mimetype": "text/x-python",
   "name": "python",
   "nbconvert_exporter": "python",
   "pygments_lexer": "ipython3",
   "version": "3.12.3"
  }
 },
 "nbformat": 4,
 "nbformat_minor": 5
}
